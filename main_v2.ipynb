{
 "cells": [
  {
   "cell_type": "code",
   "execution_count": 1,
   "metadata": {},
   "outputs": [],
   "source": [
    "# imports\n",
    "import atc_dataloader, atc_model\n",
    "import torch\n",
    "from torch.utils.data import DataLoader\n",
    "from torch import nn\n",
    "import matplotlib.pyplot as plt\n",
    "import numpy as np\n",
    "from tqdm import tqdm\n",
    "from atc_loss import PredictionLoss_COS_MSE, PredictionLoss_BOX_Wise\n",
    "import time"
   ]
  },
  {
   "cell_type": "code",
   "execution_count": 2,
   "metadata": {},
   "outputs": [],
   "source": [
    "# set the device\n",
    "device = 'cuda' if torch.cuda.is_available() else 'cpu'"
   ]
  },
  {
   "cell_type": "code",
   "execution_count": 3,
   "metadata": {},
   "outputs": [],
   "source": [
    "def transform_vector_to_integers(pred):\n",
    "    # //////////////////////////////////////////////////////////\n",
    "    # CURRENTLY NOT USED\n",
    "    # //////////////////////////////////////////////////////////\n",
    "    # get the max value, that will serve as reference - where is the max, there is supposed to be 1 (or other integer, depends...)\n",
    "    # for now, everything until 1.3 will be treated as 1, until 2.3 as two etc.\n",
    "    \n",
    "    # lambda to round function from the specific treshold defined in range [.0;1.0)\n",
    "    my_treshold = 0.3\n",
    "    tr = np.min([my_treshold, pred.max()*0.9])\n",
    "\n",
    "    myround = np.vectorize(lambda x, treshold=tr: np.floor(x) if x < (np.floor(x) + treshold) else np.ceil(x))\n",
    "\n",
    "    result = np.apply_along_axis(func1d=myround, axis=0,arr=pred)\n",
    "    return result\n",
    "\n",
    "def evaluate(model, data_loader, device, criterion):\n",
    "    \"\"\"\n",
    "    function used to evaluate the model, return loss and accuracy\n",
    "    \"\"\"\n",
    "    model.eval()\n",
    "    \n",
    "    test_loss = []\n",
    "    with torch.no_grad():\n",
    "        for  _, batch_in_vectors, batch_out_vectors in data_loader:\n",
    "            pred = model(batch_in_vectors.to(device))\n",
    "            loss = criterion(pred, batch_out_vectors.to(device))\n",
    "            test_loss.append(loss.item())\n",
    "    \n",
    "    return np.mean(test_loss)\n",
    "\n",
    "# def evaluate_real_similarity(dl_test,model,device):\n",
    "    "
   ]
  },
  {
   "cell_type": "code",
   "execution_count": 4,
   "metadata": {},
   "outputs": [
    {
     "name": "stdout",
     "output_type": "stream",
     "text": [
      "[[0.   0.   0.  ]\n",
      " [0.21 0.   0.  ]]\n"
     ]
    },
    {
     "data": {
      "text/plain": [
       "False"
      ]
     },
     "execution_count": 4,
     "metadata": {},
     "output_type": "execute_result"
    }
   ],
   "source": [
    "def real_vector_similarity(vec1, vec2, tolerance=0.1):\n",
    "    # Convert to numpy arrays for element-wise comparison\n",
    "    vec1 = np.array(vec1)\n",
    "    vec2 = np.array(vec2)\n",
    "    \n",
    "    # Compute the absolute difference between corresponding elements\n",
    "    difference = np.abs(vec1 - vec2)\n",
    "    print(difference)\n",
    "    # Check if all differences are within the given tolerance\n",
    "    return np.all(difference <= tolerance)\n",
    "\n",
    "real_vector_similarity([[1.0, 2.0, 3.0],[5.09, 6.0, 7.0]], [[1.0, 2.0, 3.0],[5.3, 6.0, 7.0]], tolerance=0.1)"
   ]
  },
  {
   "cell_type": "code",
   "execution_count": 4,
   "metadata": {},
   "outputs": [],
   "source": [
    "def train_model(model, device, train_dl, test_dl, criterion, optimizer, epochs=10, save_model_last_epoch=True, model_path='.'):\n",
    "    \n",
    "    # loss that will be calculated after each epoch for both test and train set \n",
    "    train_loss_overall = []\n",
    "    test_loss_overall = [] \n",
    "    \n",
    "    for epoch in range(epochs):\n",
    "        epoch_loss = []\n",
    "        model.train()  # Set the model to training mode\n",
    "        \n",
    "        # Wrap dataloader with tqdm for progress visualization\n",
    "        for _, batch_in_vectors, batch_out_vectors in tqdm(train_dl, desc=f'Epoch {epoch + 1}/{epochs}', unit='batch'):\n",
    "            # Convert data to tensors and move to the correct device\n",
    "            batch_in_vectors = torch.tensor(batch_in_vectors, dtype=torch.float32, requires_grad=True).to(device)\n",
    "            batch_out_vectors = torch.tensor(batch_out_vectors, dtype=torch.float32).to(device)\n",
    "            \n",
    "            # Zero the gradients\n",
    "            optimizer.zero_grad()\n",
    "\n",
    "            # Forward pass\n",
    "            outputs = model(batch_in_vectors)\n",
    "            \n",
    "            # Calculate loss\n",
    "            loss = criterion(outputs, batch_out_vectors)\n",
    "            \n",
    "            # Backward pass and optimization\n",
    "            loss.backward()\n",
    "            optimizer.step()\n",
    "\n",
    "            # Accumulate loss\n",
    "            epoch_loss.append(loss.item())\n",
    "\n",
    "        if (epoch % 5 == 0):\n",
    "            torch.save(model.state_dict(), f'models/model_betternn_epoch_{epoch}.pth')\n",
    "        \n",
    "        # start evaluation and append test loss\n",
    "        tmp_test_loss = evaluate(model, test_dl, device, criterion)\n",
    "        test_loss_overall.append(tmp_test_loss)\n",
    "        \n",
    "        # Calculate average train loss for the epoch\n",
    "        avg_train_loss = np.mean(epoch_loss)\n",
    "        train_loss_overall.append(avg_train_loss) # add it to the loss over all epochs\n",
    "        \n",
    "        # Print loss (both train and test) for the current epoch\n",
    "        print(f\"Epoch [{epoch+1}/{epochs}], Train loss: {avg_train_loss:.4f}, Test loss: {tmp_test_loss:.4f}\")\n",
    "\n",
    "    # ====================================\n",
    "    # AFTER TRAIN ========================\n",
    "    # ====================================\n",
    "    \n",
    "    # save the model after the last epoch if set\n",
    "    if (save_model_last_epoch):\n",
    "        torch.save(model.state_dict(), f'{model_path}/model_last_epoch_{time.time_ns()}.pth')\n",
    "        \n",
    "    # print overall loss\n",
    "    print('Overall train loss: ', train_loss_overall)\n",
    "    print('Overall test loss: ', test_loss_overall)\n",
    "    # plot graph\n",
    "    plt.figure()\n",
    "    plt.plot(np.arange(0,epochs,1),train_loss_overall, label='Train loss') # train loss over all epochs\n",
    "    plt.plot(np.arange(0,epochs,1),test_loss_overall, label='Test loss') # test loss over all epochs\n",
    "    plt.title('Loss function')\n",
    "    plt.show()\n",
    "    \n",
    "    return train_loss_overall, test_loss_overall"
   ]
  },
  {
   "cell_type": "markdown",
   "metadata": {},
   "source": [
    "### Train part"
   ]
  },
  {
   "cell_type": "code",
   "execution_count": 6,
   "metadata": {},
   "outputs": [],
   "source": [
    "# load data\n",
    "TRAIN_IN=\"data/train_in.csv\"\n",
    "TRAIN_OUT=\"data/train_out.csv\"\n",
    "# TRAIN_IN='data/sample_in.csv'\n",
    "# TRAIN_OUT='data/sample_out.csv'\n",
    "data_train = atc_dataloader.ATCDataset_v2(TRAIN_IN, TRAIN_OUT)"
   ]
  },
  {
   "cell_type": "code",
   "execution_count": 7,
   "metadata": {},
   "outputs": [],
   "source": [
    "TEST_IN=\"data/test_in.csv\"\n",
    "TEST_OUT=\"data/test_out.csv\"\n",
    "# TEST_IN='data/sample_in.csv'\n",
    "# TEST_OUT='data/sample_out.csv'\n",
    "data_test = atc_dataloader.ATCDataset_v2(TEST_IN, TEST_OUT)"
   ]
  },
  {
   "cell_type": "code",
   "execution_count": 8,
   "metadata": {},
   "outputs": [],
   "source": [
    "model = atc_model.BetterNN().to(device)\n",
    "optimizer = torch.optim.SGD(model.parameters(), lr=0.0001, weight_decay=0.005)\n",
    "criterion = PredictionLoss_BOX_Wise().to(device)\n",
    "dl_train = DataLoader(data_train, batch_size=32, shuffle=True)  \n",
    "dl_test = DataLoader(data_test, batch_size=32, shuffle=False)"
   ]
  },
  {
   "cell_type": "code",
   "execution_count": 9,
   "metadata": {},
   "outputs": [
    {
     "name": "stderr",
     "output_type": "stream",
     "text": [
      "Epoch 1/100:   0%|          | 0/3768 [00:00<?, ?batch/s]/tmp/ipykernel_54412/4052052478.py:14: UserWarning: To copy construct from a tensor, it is recommended to use sourceTensor.clone().detach() or sourceTensor.clone().detach().requires_grad_(True), rather than torch.tensor(sourceTensor).\n",
      "  batch_in_vectors = torch.tensor(batch_in_vectors, dtype=torch.float32, requires_grad=True).to(device)\n",
      "/tmp/ipykernel_54412/4052052478.py:15: UserWarning: To copy construct from a tensor, it is recommended to use sourceTensor.clone().detach() or sourceTensor.clone().detach().requires_grad_(True), rather than torch.tensor(sourceTensor).\n",
      "  batch_out_vectors = torch.tensor(batch_out_vectors, dtype=torch.float32).to(device)\n",
      "Epoch 1/100: 100%|██████████| 3768/3768 [00:06<00:00, 572.45batch/s]\n"
     ]
    },
    {
     "name": "stdout",
     "output_type": "stream",
     "text": [
      "Epoch [1/100], Train loss: 5.3847, Test loss: 5.5848\n"
     ]
    },
    {
     "name": "stderr",
     "output_type": "stream",
     "text": [
      "Epoch 2/100: 100%|██████████| 3768/3768 [00:06<00:00, 598.84batch/s]\n"
     ]
    },
    {
     "name": "stdout",
     "output_type": "stream",
     "text": [
      "Epoch [2/100], Train loss: 4.9403, Test loss: 4.5263\n"
     ]
    },
    {
     "name": "stderr",
     "output_type": "stream",
     "text": [
      "Epoch 3/100: 100%|██████████| 3768/3768 [00:06<00:00, 599.24batch/s]\n"
     ]
    },
    {
     "name": "stdout",
     "output_type": "stream",
     "text": [
      "Epoch [3/100], Train loss: 4.7619, Test loss: 4.7093\n"
     ]
    },
    {
     "name": "stderr",
     "output_type": "stream",
     "text": [
      "Epoch 4/100: 100%|██████████| 3768/3768 [00:06<00:00, 604.31batch/s]\n"
     ]
    },
    {
     "name": "stdout",
     "output_type": "stream",
     "text": [
      "Epoch [4/100], Train loss: 4.7466, Test loss: 4.2964\n"
     ]
    },
    {
     "name": "stderr",
     "output_type": "stream",
     "text": [
      "Epoch 5/100: 100%|██████████| 3768/3768 [00:06<00:00, 596.80batch/s]\n"
     ]
    },
    {
     "name": "stdout",
     "output_type": "stream",
     "text": [
      "Epoch [5/100], Train loss: 4.7343, Test loss: 4.6881\n"
     ]
    },
    {
     "name": "stderr",
     "output_type": "stream",
     "text": [
      "Epoch 6/100: 100%|██████████| 3768/3768 [00:06<00:00, 591.99batch/s]\n"
     ]
    },
    {
     "name": "stdout",
     "output_type": "stream",
     "text": [
      "Epoch [6/100], Train loss: 4.6777, Test loss: 6.0177\n"
     ]
    },
    {
     "name": "stderr",
     "output_type": "stream",
     "text": [
      "Epoch 7/100: 100%|██████████| 3768/3768 [00:06<00:00, 598.71batch/s]\n"
     ]
    },
    {
     "name": "stdout",
     "output_type": "stream",
     "text": [
      "Epoch [7/100], Train loss: 4.6683, Test loss: 4.6188\n"
     ]
    },
    {
     "name": "stderr",
     "output_type": "stream",
     "text": [
      "Epoch 8/100: 100%|██████████| 3768/3768 [00:06<00:00, 588.57batch/s]\n"
     ]
    },
    {
     "name": "stdout",
     "output_type": "stream",
     "text": [
      "Epoch [8/100], Train loss: 4.5315, Test loss: 5.1779\n"
     ]
    },
    {
     "name": "stderr",
     "output_type": "stream",
     "text": [
      "Epoch 9/100: 100%|██████████| 3768/3768 [00:06<00:00, 603.32batch/s]\n"
     ]
    },
    {
     "name": "stdout",
     "output_type": "stream",
     "text": [
      "Epoch [9/100], Train loss: 4.5372, Test loss: 5.0267\n"
     ]
    },
    {
     "name": "stderr",
     "output_type": "stream",
     "text": [
      "Epoch 10/100: 100%|██████████| 3768/3768 [00:06<00:00, 598.39batch/s]\n"
     ]
    },
    {
     "name": "stdout",
     "output_type": "stream",
     "text": [
      "Epoch [10/100], Train loss: 4.4979, Test loss: 5.1291\n"
     ]
    },
    {
     "name": "stderr",
     "output_type": "stream",
     "text": [
      "Epoch 11/100: 100%|██████████| 3768/3768 [00:06<00:00, 607.01batch/s]\n"
     ]
    },
    {
     "name": "stdout",
     "output_type": "stream",
     "text": [
      "Epoch [11/100], Train loss: 4.4993, Test loss: 4.3285\n"
     ]
    },
    {
     "name": "stderr",
     "output_type": "stream",
     "text": [
      "Epoch 12/100: 100%|██████████| 3768/3768 [00:06<00:00, 601.83batch/s]\n"
     ]
    },
    {
     "name": "stdout",
     "output_type": "stream",
     "text": [
      "Epoch [12/100], Train loss: 4.4643, Test loss: 4.3905\n"
     ]
    },
    {
     "name": "stderr",
     "output_type": "stream",
     "text": [
      "Epoch 13/100: 100%|██████████| 3768/3768 [00:06<00:00, 601.66batch/s]\n"
     ]
    },
    {
     "name": "stdout",
     "output_type": "stream",
     "text": [
      "Epoch [13/100], Train loss: 4.4455, Test loss: 4.0416\n"
     ]
    },
    {
     "name": "stderr",
     "output_type": "stream",
     "text": [
      "Epoch 14/100: 100%|██████████| 3768/3768 [00:06<00:00, 599.05batch/s]\n"
     ]
    },
    {
     "name": "stdout",
     "output_type": "stream",
     "text": [
      "Epoch [14/100], Train loss: 4.4407, Test loss: 4.4079\n"
     ]
    },
    {
     "name": "stderr",
     "output_type": "stream",
     "text": [
      "Epoch 15/100: 100%|██████████| 3768/3768 [00:06<00:00, 596.55batch/s]\n"
     ]
    },
    {
     "name": "stdout",
     "output_type": "stream",
     "text": [
      "Epoch [15/100], Train loss: 4.4015, Test loss: 5.3241\n"
     ]
    },
    {
     "name": "stderr",
     "output_type": "stream",
     "text": [
      "Epoch 16/100: 100%|██████████| 3768/3768 [00:06<00:00, 605.55batch/s]\n"
     ]
    },
    {
     "name": "stdout",
     "output_type": "stream",
     "text": [
      "Epoch [16/100], Train loss: 4.3643, Test loss: 3.9696\n"
     ]
    },
    {
     "name": "stderr",
     "output_type": "stream",
     "text": [
      "Epoch 17/100: 100%|██████████| 3768/3768 [00:06<00:00, 593.11batch/s]\n"
     ]
    },
    {
     "name": "stdout",
     "output_type": "stream",
     "text": [
      "Epoch [17/100], Train loss: 4.3174, Test loss: 4.8814\n"
     ]
    },
    {
     "name": "stderr",
     "output_type": "stream",
     "text": [
      "Epoch 18/100: 100%|██████████| 3768/3768 [00:06<00:00, 603.15batch/s]\n"
     ]
    },
    {
     "name": "stdout",
     "output_type": "stream",
     "text": [
      "Epoch [18/100], Train loss: 4.2608, Test loss: 5.0783\n"
     ]
    },
    {
     "name": "stderr",
     "output_type": "stream",
     "text": [
      "Epoch 19/100: 100%|██████████| 3768/3768 [00:06<00:00, 590.44batch/s]\n"
     ]
    },
    {
     "name": "stdout",
     "output_type": "stream",
     "text": [
      "Epoch [19/100], Train loss: 4.3026, Test loss: 5.0185\n"
     ]
    },
    {
     "name": "stderr",
     "output_type": "stream",
     "text": [
      "Epoch 20/100: 100%|██████████| 3768/3768 [00:06<00:00, 578.62batch/s]\n"
     ]
    },
    {
     "name": "stdout",
     "output_type": "stream",
     "text": [
      "Epoch [20/100], Train loss: 4.2765, Test loss: 4.1318\n"
     ]
    },
    {
     "name": "stderr",
     "output_type": "stream",
     "text": [
      "Epoch 21/100: 100%|██████████| 3768/3768 [00:06<00:00, 588.98batch/s]\n"
     ]
    },
    {
     "name": "stdout",
     "output_type": "stream",
     "text": [
      "Epoch [21/100], Train loss: 4.2345, Test loss: 3.9438\n"
     ]
    },
    {
     "name": "stderr",
     "output_type": "stream",
     "text": [
      "Epoch 22/100: 100%|██████████| 3768/3768 [00:06<00:00, 586.32batch/s]\n"
     ]
    },
    {
     "name": "stdout",
     "output_type": "stream",
     "text": [
      "Epoch [22/100], Train loss: 4.2070, Test loss: 4.4362\n"
     ]
    },
    {
     "name": "stderr",
     "output_type": "stream",
     "text": [
      "Epoch 23/100: 100%|██████████| 3768/3768 [00:06<00:00, 591.38batch/s]\n"
     ]
    },
    {
     "name": "stdout",
     "output_type": "stream",
     "text": [
      "Epoch [23/100], Train loss: 4.2330, Test loss: 3.5681\n"
     ]
    },
    {
     "name": "stderr",
     "output_type": "stream",
     "text": [
      "Epoch 24/100: 100%|██████████| 3768/3768 [00:06<00:00, 577.39batch/s]\n"
     ]
    },
    {
     "name": "stdout",
     "output_type": "stream",
     "text": [
      "Epoch [24/100], Train loss: 4.2199, Test loss: 4.2071\n"
     ]
    },
    {
     "name": "stderr",
     "output_type": "stream",
     "text": [
      "Epoch 25/100: 100%|██████████| 3768/3768 [00:06<00:00, 581.16batch/s]\n"
     ]
    },
    {
     "name": "stdout",
     "output_type": "stream",
     "text": [
      "Epoch [25/100], Train loss: 4.1421, Test loss: 3.5214\n"
     ]
    },
    {
     "name": "stderr",
     "output_type": "stream",
     "text": [
      "Epoch 26/100: 100%|██████████| 3768/3768 [00:06<00:00, 575.75batch/s]\n"
     ]
    },
    {
     "name": "stdout",
     "output_type": "stream",
     "text": [
      "Epoch [26/100], Train loss: 4.1889, Test loss: 3.6779\n"
     ]
    },
    {
     "name": "stderr",
     "output_type": "stream",
     "text": [
      "Epoch 27/100: 100%|██████████| 3768/3768 [00:06<00:00, 570.91batch/s]\n"
     ]
    },
    {
     "name": "stdout",
     "output_type": "stream",
     "text": [
      "Epoch [27/100], Train loss: 4.0449, Test loss: 4.6690\n"
     ]
    },
    {
     "name": "stderr",
     "output_type": "stream",
     "text": [
      "Epoch 28/100: 100%|██████████| 3768/3768 [00:06<00:00, 592.91batch/s]\n"
     ]
    },
    {
     "name": "stdout",
     "output_type": "stream",
     "text": [
      "Epoch [28/100], Train loss: 4.1011, Test loss: 4.8192\n"
     ]
    },
    {
     "name": "stderr",
     "output_type": "stream",
     "text": [
      "Epoch 29/100: 100%|██████████| 3768/3768 [00:06<00:00, 600.41batch/s]\n"
     ]
    },
    {
     "name": "stdout",
     "output_type": "stream",
     "text": [
      "Epoch [29/100], Train loss: 4.1508, Test loss: 3.6806\n"
     ]
    },
    {
     "name": "stderr",
     "output_type": "stream",
     "text": [
      "Epoch 30/100: 100%|██████████| 3768/3768 [00:06<00:00, 596.33batch/s]\n"
     ]
    },
    {
     "name": "stdout",
     "output_type": "stream",
     "text": [
      "Epoch [30/100], Train loss: 4.0261, Test loss: 4.1573\n"
     ]
    },
    {
     "name": "stderr",
     "output_type": "stream",
     "text": [
      "Epoch 31/100: 100%|██████████| 3768/3768 [00:06<00:00, 585.06batch/s]\n"
     ]
    },
    {
     "name": "stdout",
     "output_type": "stream",
     "text": [
      "Epoch [31/100], Train loss: 4.0386, Test loss: 4.2248\n"
     ]
    },
    {
     "name": "stderr",
     "output_type": "stream",
     "text": [
      "Epoch 32/100: 100%|██████████| 3768/3768 [00:06<00:00, 598.41batch/s]\n"
     ]
    },
    {
     "name": "stdout",
     "output_type": "stream",
     "text": [
      "Epoch [32/100], Train loss: 3.9942, Test loss: 3.6242\n"
     ]
    },
    {
     "name": "stderr",
     "output_type": "stream",
     "text": [
      "Epoch 33/100: 100%|██████████| 3768/3768 [00:06<00:00, 604.79batch/s]\n"
     ]
    },
    {
     "name": "stdout",
     "output_type": "stream",
     "text": [
      "Epoch [33/100], Train loss: 4.0696, Test loss: 3.7600\n"
     ]
    },
    {
     "name": "stderr",
     "output_type": "stream",
     "text": [
      "Epoch 34/100: 100%|██████████| 3768/3768 [00:06<00:00, 607.59batch/s]\n"
     ]
    },
    {
     "name": "stdout",
     "output_type": "stream",
     "text": [
      "Epoch [34/100], Train loss: 3.9386, Test loss: 4.9059\n"
     ]
    },
    {
     "name": "stderr",
     "output_type": "stream",
     "text": [
      "Epoch 35/100: 100%|██████████| 3768/3768 [00:06<00:00, 596.32batch/s]\n"
     ]
    },
    {
     "name": "stdout",
     "output_type": "stream",
     "text": [
      "Epoch [35/100], Train loss: 3.9680, Test loss: 4.6706\n"
     ]
    },
    {
     "name": "stderr",
     "output_type": "stream",
     "text": [
      "Epoch 36/100: 100%|██████████| 3768/3768 [00:06<00:00, 587.95batch/s]\n"
     ]
    },
    {
     "name": "stdout",
     "output_type": "stream",
     "text": [
      "Epoch [36/100], Train loss: 3.9591, Test loss: 5.3174\n"
     ]
    },
    {
     "name": "stderr",
     "output_type": "stream",
     "text": [
      "Epoch 37/100: 100%|██████████| 3768/3768 [00:06<00:00, 593.24batch/s]\n"
     ]
    },
    {
     "name": "stdout",
     "output_type": "stream",
     "text": [
      "Epoch [37/100], Train loss: 3.9462, Test loss: 4.8897\n"
     ]
    },
    {
     "name": "stderr",
     "output_type": "stream",
     "text": [
      "Epoch 38/100: 100%|██████████| 3768/3768 [00:05<00:00, 672.66batch/s]\n"
     ]
    },
    {
     "name": "stdout",
     "output_type": "stream",
     "text": [
      "Epoch [38/100], Train loss: 3.9102, Test loss: 3.3398\n"
     ]
    },
    {
     "name": "stderr",
     "output_type": "stream",
     "text": [
      "Epoch 39/100: 100%|██████████| 3768/3768 [00:05<00:00, 687.38batch/s]\n"
     ]
    },
    {
     "name": "stdout",
     "output_type": "stream",
     "text": [
      "Epoch [39/100], Train loss: 3.9341, Test loss: 3.9786\n"
     ]
    },
    {
     "name": "stderr",
     "output_type": "stream",
     "text": [
      "Epoch 40/100: 100%|██████████| 3768/3768 [00:06<00:00, 594.01batch/s]\n"
     ]
    },
    {
     "name": "stdout",
     "output_type": "stream",
     "text": [
      "Epoch [40/100], Train loss: 3.8501, Test loss: 3.3179\n"
     ]
    },
    {
     "name": "stderr",
     "output_type": "stream",
     "text": [
      "Epoch 41/100: 100%|██████████| 3768/3768 [00:06<00:00, 592.48batch/s]\n"
     ]
    },
    {
     "name": "stdout",
     "output_type": "stream",
     "text": [
      "Epoch [41/100], Train loss: 3.8927, Test loss: 3.3928\n"
     ]
    },
    {
     "name": "stderr",
     "output_type": "stream",
     "text": [
      "Epoch 42/100: 100%|██████████| 3768/3768 [00:06<00:00, 569.87batch/s]\n"
     ]
    },
    {
     "name": "stdout",
     "output_type": "stream",
     "text": [
      "Epoch [42/100], Train loss: 3.8590, Test loss: 4.4099\n"
     ]
    },
    {
     "name": "stderr",
     "output_type": "stream",
     "text": [
      "Epoch 43/100: 100%|██████████| 3768/3768 [00:06<00:00, 579.89batch/s]\n"
     ]
    },
    {
     "name": "stdout",
     "output_type": "stream",
     "text": [
      "Epoch [43/100], Train loss: 3.8982, Test loss: 3.3110\n"
     ]
    },
    {
     "name": "stderr",
     "output_type": "stream",
     "text": [
      "Epoch 44/100: 100%|██████████| 3768/3768 [00:06<00:00, 580.68batch/s]\n"
     ]
    },
    {
     "name": "stdout",
     "output_type": "stream",
     "text": [
      "Epoch [44/100], Train loss: 3.8656, Test loss: 4.4592\n"
     ]
    },
    {
     "name": "stderr",
     "output_type": "stream",
     "text": [
      "Epoch 45/100: 100%|██████████| 3768/3768 [00:06<00:00, 586.36batch/s]\n"
     ]
    },
    {
     "name": "stdout",
     "output_type": "stream",
     "text": [
      "Epoch [45/100], Train loss: 3.8447, Test loss: 3.3742\n"
     ]
    },
    {
     "name": "stderr",
     "output_type": "stream",
     "text": [
      "Epoch 46/100: 100%|██████████| 3768/3768 [00:06<00:00, 609.78batch/s]\n"
     ]
    },
    {
     "name": "stdout",
     "output_type": "stream",
     "text": [
      "Epoch [46/100], Train loss: 3.8869, Test loss: 3.4480\n"
     ]
    },
    {
     "name": "stderr",
     "output_type": "stream",
     "text": [
      "Epoch 47/100: 100%|██████████| 3768/3768 [00:06<00:00, 606.20batch/s]\n"
     ]
    },
    {
     "name": "stdout",
     "output_type": "stream",
     "text": [
      "Epoch [47/100], Train loss: 3.8534, Test loss: 4.2502\n"
     ]
    },
    {
     "name": "stderr",
     "output_type": "stream",
     "text": [
      "Epoch 48/100: 100%|██████████| 3768/3768 [00:06<00:00, 606.09batch/s]\n"
     ]
    },
    {
     "name": "stdout",
     "output_type": "stream",
     "text": [
      "Epoch [48/100], Train loss: 3.8387, Test loss: 3.3014\n"
     ]
    },
    {
     "name": "stderr",
     "output_type": "stream",
     "text": [
      "Epoch 49/100: 100%|██████████| 3768/3768 [00:06<00:00, 602.79batch/s]\n"
     ]
    },
    {
     "name": "stdout",
     "output_type": "stream",
     "text": [
      "Epoch [49/100], Train loss: 3.8006, Test loss: 4.5092\n"
     ]
    },
    {
     "name": "stderr",
     "output_type": "stream",
     "text": [
      "Epoch 50/100: 100%|██████████| 3768/3768 [00:06<00:00, 599.62batch/s]\n"
     ]
    },
    {
     "name": "stdout",
     "output_type": "stream",
     "text": [
      "Epoch [50/100], Train loss: 3.8253, Test loss: 3.5514\n"
     ]
    },
    {
     "name": "stderr",
     "output_type": "stream",
     "text": [
      "Epoch 51/100: 100%|██████████| 3768/3768 [00:06<00:00, 596.16batch/s]\n"
     ]
    },
    {
     "name": "stdout",
     "output_type": "stream",
     "text": [
      "Epoch [51/100], Train loss: 3.7749, Test loss: 3.1559\n"
     ]
    },
    {
     "name": "stderr",
     "output_type": "stream",
     "text": [
      "Epoch 52/100: 100%|██████████| 3768/3768 [00:06<00:00, 604.88batch/s]\n"
     ]
    },
    {
     "name": "stdout",
     "output_type": "stream",
     "text": [
      "Epoch [52/100], Train loss: 3.6962, Test loss: 3.1016\n"
     ]
    },
    {
     "name": "stderr",
     "output_type": "stream",
     "text": [
      "Epoch 53/100: 100%|██████████| 3768/3768 [00:06<00:00, 600.90batch/s]\n"
     ]
    },
    {
     "name": "stdout",
     "output_type": "stream",
     "text": [
      "Epoch [53/100], Train loss: 3.7592, Test loss: 3.7728\n"
     ]
    },
    {
     "name": "stderr",
     "output_type": "stream",
     "text": [
      "Epoch 54/100: 100%|██████████| 3768/3768 [00:06<00:00, 602.01batch/s]\n"
     ]
    },
    {
     "name": "stdout",
     "output_type": "stream",
     "text": [
      "Epoch [54/100], Train loss: 3.7773, Test loss: 3.5981\n"
     ]
    },
    {
     "name": "stderr",
     "output_type": "stream",
     "text": [
      "Epoch 55/100: 100%|██████████| 3768/3768 [00:06<00:00, 605.80batch/s]\n"
     ]
    },
    {
     "name": "stdout",
     "output_type": "stream",
     "text": [
      "Epoch [55/100], Train loss: 3.7246, Test loss: 3.0049\n"
     ]
    },
    {
     "name": "stderr",
     "output_type": "stream",
     "text": [
      "Epoch 56/100: 100%|██████████| 3768/3768 [00:06<00:00, 607.84batch/s]\n"
     ]
    },
    {
     "name": "stdout",
     "output_type": "stream",
     "text": [
      "Epoch [56/100], Train loss: 3.7358, Test loss: 3.8036\n"
     ]
    },
    {
     "name": "stderr",
     "output_type": "stream",
     "text": [
      "Epoch 57/100: 100%|██████████| 3768/3768 [00:06<00:00, 604.57batch/s]\n"
     ]
    },
    {
     "name": "stdout",
     "output_type": "stream",
     "text": [
      "Epoch [57/100], Train loss: 3.7048, Test loss: 3.5166\n"
     ]
    },
    {
     "name": "stderr",
     "output_type": "stream",
     "text": [
      "Epoch 58/100: 100%|██████████| 3768/3768 [00:06<00:00, 605.46batch/s]\n"
     ]
    },
    {
     "name": "stdout",
     "output_type": "stream",
     "text": [
      "Epoch [58/100], Train loss: 3.7563, Test loss: 4.1034\n"
     ]
    },
    {
     "name": "stderr",
     "output_type": "stream",
     "text": [
      "Epoch 59/100: 100%|██████████| 3768/3768 [00:06<00:00, 599.60batch/s]\n"
     ]
    },
    {
     "name": "stdout",
     "output_type": "stream",
     "text": [
      "Epoch [59/100], Train loss: 3.6993, Test loss: 3.3618\n"
     ]
    },
    {
     "name": "stderr",
     "output_type": "stream",
     "text": [
      "Epoch 60/100: 100%|██████████| 3768/3768 [00:06<00:00, 601.11batch/s]\n"
     ]
    },
    {
     "name": "stdout",
     "output_type": "stream",
     "text": [
      "Epoch [60/100], Train loss: 3.7263, Test loss: 4.7163\n"
     ]
    },
    {
     "name": "stderr",
     "output_type": "stream",
     "text": [
      "Epoch 61/100: 100%|██████████| 3768/3768 [00:06<00:00, 604.68batch/s]\n"
     ]
    },
    {
     "name": "stdout",
     "output_type": "stream",
     "text": [
      "Epoch [61/100], Train loss: 3.6303, Test loss: 3.9774\n"
     ]
    },
    {
     "name": "stderr",
     "output_type": "stream",
     "text": [
      "Epoch 62/100: 100%|██████████| 3768/3768 [00:06<00:00, 599.74batch/s]\n"
     ]
    },
    {
     "name": "stdout",
     "output_type": "stream",
     "text": [
      "Epoch [62/100], Train loss: 3.6634, Test loss: 3.1361\n"
     ]
    },
    {
     "name": "stderr",
     "output_type": "stream",
     "text": [
      "Epoch 63/100: 100%|██████████| 3768/3768 [00:06<00:00, 602.81batch/s]\n"
     ]
    },
    {
     "name": "stdout",
     "output_type": "stream",
     "text": [
      "Epoch [63/100], Train loss: 3.6743, Test loss: 3.6436\n"
     ]
    },
    {
     "name": "stderr",
     "output_type": "stream",
     "text": [
      "Epoch 64/100: 100%|██████████| 3768/3768 [00:06<00:00, 606.15batch/s]\n"
     ]
    },
    {
     "name": "stdout",
     "output_type": "stream",
     "text": [
      "Epoch [64/100], Train loss: 3.6663, Test loss: 3.3119\n"
     ]
    },
    {
     "name": "stderr",
     "output_type": "stream",
     "text": [
      "Epoch 65/100: 100%|██████████| 3768/3768 [00:06<00:00, 605.83batch/s]\n"
     ]
    },
    {
     "name": "stdout",
     "output_type": "stream",
     "text": [
      "Epoch [65/100], Train loss: 3.6808, Test loss: 3.2432\n"
     ]
    },
    {
     "name": "stderr",
     "output_type": "stream",
     "text": [
      "Epoch 66/100: 100%|██████████| 3768/3768 [00:06<00:00, 610.23batch/s]\n"
     ]
    },
    {
     "name": "stdout",
     "output_type": "stream",
     "text": [
      "Epoch [66/100], Train loss: 3.6608, Test loss: 4.0150\n"
     ]
    },
    {
     "name": "stderr",
     "output_type": "stream",
     "text": [
      "Epoch 67/100: 100%|██████████| 3768/3768 [00:06<00:00, 606.38batch/s]\n"
     ]
    },
    {
     "name": "stdout",
     "output_type": "stream",
     "text": [
      "Epoch [67/100], Train loss: 3.6431, Test loss: 3.2137\n"
     ]
    },
    {
     "name": "stderr",
     "output_type": "stream",
     "text": [
      "Epoch 68/100: 100%|██████████| 3768/3768 [00:06<00:00, 600.00batch/s]\n"
     ]
    },
    {
     "name": "stdout",
     "output_type": "stream",
     "text": [
      "Epoch [68/100], Train loss: 3.5934, Test loss: 3.1805\n"
     ]
    },
    {
     "name": "stderr",
     "output_type": "stream",
     "text": [
      "Epoch 69/100: 100%|██████████| 3768/3768 [00:06<00:00, 601.73batch/s]\n"
     ]
    },
    {
     "name": "stdout",
     "output_type": "stream",
     "text": [
      "Epoch [69/100], Train loss: 3.6131, Test loss: 3.9515\n"
     ]
    },
    {
     "name": "stderr",
     "output_type": "stream",
     "text": [
      "Epoch 70/100: 100%|██████████| 3768/3768 [00:06<00:00, 598.02batch/s]\n"
     ]
    },
    {
     "name": "stdout",
     "output_type": "stream",
     "text": [
      "Epoch [70/100], Train loss: 3.5767, Test loss: 4.5898\n"
     ]
    },
    {
     "name": "stderr",
     "output_type": "stream",
     "text": [
      "Epoch 71/100: 100%|██████████| 3768/3768 [00:06<00:00, 587.93batch/s]\n"
     ]
    },
    {
     "name": "stdout",
     "output_type": "stream",
     "text": [
      "Epoch [71/100], Train loss: 3.5854, Test loss: 3.3816\n"
     ]
    },
    {
     "name": "stderr",
     "output_type": "stream",
     "text": [
      "Epoch 72/100: 100%|██████████| 3768/3768 [00:06<00:00, 598.35batch/s]\n"
     ]
    },
    {
     "name": "stdout",
     "output_type": "stream",
     "text": [
      "Epoch [72/100], Train loss: 3.6441, Test loss: 3.9020\n"
     ]
    },
    {
     "name": "stderr",
     "output_type": "stream",
     "text": [
      "Epoch 73/100: 100%|██████████| 3768/3768 [00:06<00:00, 604.58batch/s]\n"
     ]
    },
    {
     "name": "stdout",
     "output_type": "stream",
     "text": [
      "Epoch [73/100], Train loss: 3.5729, Test loss: 3.1694\n"
     ]
    },
    {
     "name": "stderr",
     "output_type": "stream",
     "text": [
      "Epoch 74/100: 100%|██████████| 3768/3768 [00:06<00:00, 600.02batch/s]\n"
     ]
    },
    {
     "name": "stdout",
     "output_type": "stream",
     "text": [
      "Epoch [74/100], Train loss: 3.5118, Test loss: 3.3044\n"
     ]
    },
    {
     "name": "stderr",
     "output_type": "stream",
     "text": [
      "Epoch 75/100: 100%|██████████| 3768/3768 [00:06<00:00, 601.18batch/s]\n"
     ]
    },
    {
     "name": "stdout",
     "output_type": "stream",
     "text": [
      "Epoch [75/100], Train loss: 3.5103, Test loss: 3.4371\n"
     ]
    },
    {
     "name": "stderr",
     "output_type": "stream",
     "text": [
      "Epoch 76/100: 100%|██████████| 3768/3768 [00:06<00:00, 606.20batch/s]\n"
     ]
    },
    {
     "name": "stdout",
     "output_type": "stream",
     "text": [
      "Epoch [76/100], Train loss: 3.5890, Test loss: 3.6824\n"
     ]
    },
    {
     "name": "stderr",
     "output_type": "stream",
     "text": [
      "Epoch 77/100: 100%|██████████| 3768/3768 [00:06<00:00, 602.23batch/s]\n"
     ]
    },
    {
     "name": "stdout",
     "output_type": "stream",
     "text": [
      "Epoch [77/100], Train loss: 3.5795, Test loss: 2.9939\n"
     ]
    },
    {
     "name": "stderr",
     "output_type": "stream",
     "text": [
      "Epoch 78/100: 100%|██████████| 3768/3768 [00:06<00:00, 606.87batch/s]\n"
     ]
    },
    {
     "name": "stdout",
     "output_type": "stream",
     "text": [
      "Epoch [78/100], Train loss: 3.5697, Test loss: 3.6799\n"
     ]
    },
    {
     "name": "stderr",
     "output_type": "stream",
     "text": [
      "Epoch 79/100: 100%|██████████| 3768/3768 [00:06<00:00, 593.66batch/s]\n"
     ]
    },
    {
     "name": "stdout",
     "output_type": "stream",
     "text": [
      "Epoch [79/100], Train loss: 3.5480, Test loss: 3.1749\n"
     ]
    },
    {
     "name": "stderr",
     "output_type": "stream",
     "text": [
      "Epoch 80/100: 100%|██████████| 3768/3768 [00:06<00:00, 603.74batch/s]\n"
     ]
    },
    {
     "name": "stdout",
     "output_type": "stream",
     "text": [
      "Epoch [80/100], Train loss: 3.5211, Test loss: 3.7910\n"
     ]
    },
    {
     "name": "stderr",
     "output_type": "stream",
     "text": [
      "Epoch 81/100: 100%|██████████| 3768/3768 [00:06<00:00, 607.94batch/s]\n"
     ]
    },
    {
     "name": "stdout",
     "output_type": "stream",
     "text": [
      "Epoch [81/100], Train loss: 3.5753, Test loss: 2.9010\n"
     ]
    },
    {
     "name": "stderr",
     "output_type": "stream",
     "text": [
      "Epoch 82/100: 100%|██████████| 3768/3768 [00:06<00:00, 595.67batch/s]\n"
     ]
    },
    {
     "name": "stdout",
     "output_type": "stream",
     "text": [
      "Epoch [82/100], Train loss: 3.5098, Test loss: 4.0955\n"
     ]
    },
    {
     "name": "stderr",
     "output_type": "stream",
     "text": [
      "Epoch 83/100: 100%|██████████| 3768/3768 [00:06<00:00, 594.86batch/s]\n"
     ]
    },
    {
     "name": "stdout",
     "output_type": "stream",
     "text": [
      "Epoch [83/100], Train loss: 3.5611, Test loss: 3.2746\n"
     ]
    },
    {
     "name": "stderr",
     "output_type": "stream",
     "text": [
      "Epoch 84/100: 100%|██████████| 3768/3768 [00:06<00:00, 603.73batch/s]\n"
     ]
    },
    {
     "name": "stdout",
     "output_type": "stream",
     "text": [
      "Epoch [84/100], Train loss: 3.5426, Test loss: 3.5300\n"
     ]
    },
    {
     "name": "stderr",
     "output_type": "stream",
     "text": [
      "Epoch 85/100: 100%|██████████| 3768/3768 [00:06<00:00, 598.53batch/s]\n"
     ]
    },
    {
     "name": "stdout",
     "output_type": "stream",
     "text": [
      "Epoch [85/100], Train loss: 3.5150, Test loss: 5.1098\n"
     ]
    },
    {
     "name": "stderr",
     "output_type": "stream",
     "text": [
      "Epoch 86/100: 100%|██████████| 3768/3768 [00:06<00:00, 598.80batch/s]\n"
     ]
    },
    {
     "name": "stdout",
     "output_type": "stream",
     "text": [
      "Epoch [86/100], Train loss: 3.5024, Test loss: 3.9884\n"
     ]
    },
    {
     "name": "stderr",
     "output_type": "stream",
     "text": [
      "Epoch 87/100: 100%|██████████| 3768/3768 [00:06<00:00, 597.09batch/s]\n"
     ]
    },
    {
     "name": "stdout",
     "output_type": "stream",
     "text": [
      "Epoch [87/100], Train loss: 3.5036, Test loss: 3.0845\n"
     ]
    },
    {
     "name": "stderr",
     "output_type": "stream",
     "text": [
      "Epoch 88/100: 100%|██████████| 3768/3768 [00:06<00:00, 607.73batch/s]\n"
     ]
    },
    {
     "name": "stdout",
     "output_type": "stream",
     "text": [
      "Epoch [88/100], Train loss: 3.4688, Test loss: 3.7310\n"
     ]
    },
    {
     "name": "stderr",
     "output_type": "stream",
     "text": [
      "Epoch 89/100: 100%|██████████| 3768/3768 [00:06<00:00, 592.69batch/s]\n"
     ]
    },
    {
     "name": "stdout",
     "output_type": "stream",
     "text": [
      "Epoch [89/100], Train loss: 3.4970, Test loss: 3.2399\n"
     ]
    },
    {
     "name": "stderr",
     "output_type": "stream",
     "text": [
      "Epoch 90/100: 100%|██████████| 3768/3768 [00:06<00:00, 605.97batch/s]\n"
     ]
    },
    {
     "name": "stdout",
     "output_type": "stream",
     "text": [
      "Epoch [90/100], Train loss: 3.5228, Test loss: 3.4955\n"
     ]
    },
    {
     "name": "stderr",
     "output_type": "stream",
     "text": [
      "Epoch 91/100: 100%|██████████| 3768/3768 [00:06<00:00, 597.74batch/s]\n"
     ]
    },
    {
     "name": "stdout",
     "output_type": "stream",
     "text": [
      "Epoch [91/100], Train loss: 3.5251, Test loss: 2.8937\n"
     ]
    },
    {
     "name": "stderr",
     "output_type": "stream",
     "text": [
      "Epoch 92/100: 100%|██████████| 3768/3768 [00:06<00:00, 601.31batch/s]\n"
     ]
    },
    {
     "name": "stdout",
     "output_type": "stream",
     "text": [
      "Epoch [92/100], Train loss: 3.4352, Test loss: 4.0370\n"
     ]
    },
    {
     "name": "stderr",
     "output_type": "stream",
     "text": [
      "Epoch 93/100: 100%|██████████| 3768/3768 [00:06<00:00, 608.55batch/s]\n"
     ]
    },
    {
     "name": "stdout",
     "output_type": "stream",
     "text": [
      "Epoch [93/100], Train loss: 3.4620, Test loss: 3.3592\n"
     ]
    },
    {
     "name": "stderr",
     "output_type": "stream",
     "text": [
      "Epoch 94/100: 100%|██████████| 3768/3768 [00:06<00:00, 599.80batch/s]\n"
     ]
    },
    {
     "name": "stdout",
     "output_type": "stream",
     "text": [
      "Epoch [94/100], Train loss: 3.4283, Test loss: 3.2979\n"
     ]
    },
    {
     "name": "stderr",
     "output_type": "stream",
     "text": [
      "Epoch 95/100: 100%|██████████| 3768/3768 [00:06<00:00, 600.44batch/s]\n"
     ]
    },
    {
     "name": "stdout",
     "output_type": "stream",
     "text": [
      "Epoch [95/100], Train loss: 3.5134, Test loss: 3.3068\n"
     ]
    },
    {
     "name": "stderr",
     "output_type": "stream",
     "text": [
      "Epoch 96/100: 100%|██████████| 3768/3768 [00:06<00:00, 596.03batch/s]\n"
     ]
    },
    {
     "name": "stdout",
     "output_type": "stream",
     "text": [
      "Epoch [96/100], Train loss: 3.4622, Test loss: 3.5937\n"
     ]
    },
    {
     "name": "stderr",
     "output_type": "stream",
     "text": [
      "Epoch 97/100: 100%|██████████| 3768/3768 [00:06<00:00, 598.26batch/s]\n"
     ]
    },
    {
     "name": "stdout",
     "output_type": "stream",
     "text": [
      "Epoch [97/100], Train loss: 3.4581, Test loss: 3.0078\n"
     ]
    },
    {
     "name": "stderr",
     "output_type": "stream",
     "text": [
      "Epoch 98/100: 100%|██████████| 3768/3768 [00:06<00:00, 601.57batch/s]\n"
     ]
    },
    {
     "name": "stdout",
     "output_type": "stream",
     "text": [
      "Epoch [98/100], Train loss: 3.4452, Test loss: 3.1406\n"
     ]
    },
    {
     "name": "stderr",
     "output_type": "stream",
     "text": [
      "Epoch 99/100: 100%|██████████| 3768/3768 [00:06<00:00, 599.78batch/s]\n"
     ]
    },
    {
     "name": "stdout",
     "output_type": "stream",
     "text": [
      "Epoch [99/100], Train loss: 3.4358, Test loss: 3.1222\n"
     ]
    },
    {
     "name": "stderr",
     "output_type": "stream",
     "text": [
      "Epoch 100/100: 100%|██████████| 3768/3768 [00:06<00:00, 599.73batch/s]\n"
     ]
    },
    {
     "name": "stdout",
     "output_type": "stream",
     "text": [
      "Epoch [100/100], Train loss: 3.3732, Test loss: 4.7275\n",
      "Overall train loss:  [5.384687592010478, 4.94029666882823, 4.761869674837197, 4.746598957584985, 4.734309098254217, 4.67773215099576, 4.668273262942562, 4.531468119325943, 4.537152704927129, 4.497933532710478, 4.49928424542576, 4.4643236269616775, 4.445497697844089, 4.440709255196771, 4.401544749226635, 4.36428981919767, 4.317380357925205, 4.260813929797042, 4.302615645851726, 4.276513365217961, 4.234502515555883, 4.207003437662833, 4.2329991433548, 4.219947426807286, 4.142086895459555, 4.188937199527433, 4.0449391220579605, 4.101062199618912, 4.150757833354318, 4.0260819635668375, 4.038633826847194, 3.9942355392295115, 4.06956473866877, 3.93863052770796, 3.9679818100922772, 3.9590609440473234, 3.94624311813092, 3.9101669803862866, 3.934056751449808, 3.8500690335198255, 3.892672691719642, 3.858963725246062, 3.8982117297819907, 3.8656389238648985, 3.844718787649097, 3.8869123863542727, 3.853371239281131, 3.8387119863775507, 3.8006385659636837, 3.825291448689981, 3.7748694408115497, 3.6961540553062333, 3.7591840623543775, 3.777312112647858, 3.7246207626785632, 3.735758679481955, 3.704803564536312, 3.7562907757296875, 3.69930498784056, 3.7262836116308744, 3.6303259551430203, 3.663444379047983, 3.6742556697536743, 3.666281913175799, 3.6808212495541435, 3.660805314063488, 3.643053727851283, 3.5934038493869283, 3.613050613170707, 3.576662340486173, 3.5854121034593183, 3.644076350619601, 3.572859740930742, 3.511809732990375, 3.5102506946483647, 3.5889993017230917, 3.579504996542117, 3.5697488751590662, 3.547955711279262, 3.5211451727137635, 3.5752852846672583, 3.5098307623771157, 3.5610567787998293, 3.542603307850501, 3.5149614375614564, 3.5023505778117165, 3.503571544752126, 3.468792872404533, 3.4970347220216524, 3.5228185360230935, 3.525112906484736, 3.4351745797657345, 3.4620101304226525, 3.4282755770081863, 3.513429811103724, 3.4622023486692433, 3.4581290267530487, 3.445245744553721, 3.43577500260702, 3.3731583524871054]\n",
      "Overall test loss:  [5.5848099763985655, 4.526317339018778, 4.709257052329442, 4.296416940329688, 4.688124345429637, 6.017661401990113, 4.618787364816717, 5.177942423351631, 5.026697789376202, 5.129140063835557, 4.328460295235781, 4.390484220536145, 4.041622019054531, 4.407909727273727, 5.324132412102572, 3.9695580334673517, 4.8814090654855065, 5.078308856537894, 5.018514899722836, 4.131833738075953, 3.9437717957354907, 4.436207961124979, 3.568106562531931, 4.207081212074893, 3.5214301433785957, 3.677900417879888, 4.669009326433174, 4.819244359392522, 3.6805867064277584, 4.157329591279829, 4.224777118589595, 3.6242383769743003, 3.7600326350160467, 4.905879176472909, 4.670614450821957, 5.317411479929703, 4.889738935384021, 3.3397964861425877, 3.9786305062457004, 3.317862383499267, 3.3927782908113646, 4.409865716713503, 3.3109571980885892, 4.459157614555455, 3.374235885379927, 3.448013506940469, 4.2501622361552185, 3.3013660212990583, 4.509151177674595, 3.551432736328706, 3.155887336788537, 3.101565287149889, 3.772762189024067, 3.5980829921118014, 3.0049307809197474, 3.8036157143976532, 3.5166203838213486, 4.103417730919874, 3.361767817771106, 4.716315693979304, 3.97739728832827, 3.136103121812936, 3.643588641614924, 3.3119474365326504, 3.2432155400957523, 4.015038177813947, 3.21374310994414, 3.1804847549291173, 3.9515410679097895, 4.589844392964541, 3.381565245473461, 3.9019513530716017, 3.1693515580487603, 3.3044122637520426, 3.4371091407701972, 3.6824401581616413, 2.993940639805895, 3.6798689590960802, 3.1749427425902486, 3.7910333596755237, 2.9010346601311823, 4.095529114681192, 3.2746147316605674, 3.530014591627693, 5.10983472145034, 3.988360517248986, 3.0845374331479367, 3.730950169091265, 3.2399084510048355, 3.4955417036282537, 2.893718953471781, 4.036982074704203, 3.3591684399295256, 3.297926123085928, 3.306838856412853, 3.59372047969237, 3.0078010401370165, 3.14063642354338, 3.1222499261299768, 4.727542623529515]\n"
     ]
    },
    {
     "data": {
      "image/png": "[encoded data removed]",
      "text/plain": [
       "<Figure size 640x480 with 1 Axes>"
      ]
     },
     "metadata": {},
     "output_type": "display_data"
    }
   ],
   "source": [
    "train_loss, test_loss = train_model(model, device, dl_train, dl_test, criterion, optimizer, epochs=100)\n",
    "torch.save(model.state_dict(), f'models/model_basenn{time.time_ns()}.pth') # it will be saved, ...but just in case (rly doesnt make much sense)"
   ]
  }
 ],
 "metadata": {
  "kernelspec": {
   "display_name": "Python 3",
   "language": "python",
   "name": "python3"
  },
  "language_info": {
   "codemirror_mode": {
    "name": "ipython",
    "version": 3
   },
   "file_extension": ".py",
   "mimetype": "text/x-python",
   "name": "python",
   "nbconvert_exporter": "python",
   "pygments_lexer": "ipython3",
   "version": "3.12.6"
  }
 },
 "nbformat": 4,
 "nbformat_minor": 2
}
