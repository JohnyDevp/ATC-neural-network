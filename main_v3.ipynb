{
 "cells": [
  {
   "cell_type": "markdown",
   "metadata": {},
   "source": [
    "# TRAINING OF BETTER NN - HARD"
   ]
  },
  {
   "cell_type": "code",
   "execution_count": 1,
   "metadata": {},
   "outputs": [],
   "source": [
    "# imports\n",
    "import atc_dataloader, atc_model\n",
    "import torch\n",
    "from torch.utils.data import DataLoader\n",
    "from torch import nn\n",
    "import matplotlib.pyplot as plt\n",
    "import numpy as np\n",
    "from tqdm import tqdm\n",
    "from atc_loss import PredictionLoss_COS_MSE, PredictionLoss_BOX_Wise\n",
    "import time"
   ]
  },
  {
   "cell_type": "code",
   "execution_count": 2,
   "metadata": {},
   "outputs": [],
   "source": [
    "# set the device\n",
    "device = 'cuda' if torch.cuda.is_available() else 'cpu'"
   ]
  },
  {
   "cell_type": "code",
   "execution_count": 3,
   "metadata": {},
   "outputs": [],
   "source": [
    "def transform_vector_to_integers(pred):\n",
    "    # //////////////////////////////////////////////////////////\n",
    "    # CURRENTLY NOT USED\n",
    "    # //////////////////////////////////////////////////////////\n",
    "    # get the max value, that will serve as reference - where is the max, there is supposed to be 1 (or other integer, depends...)\n",
    "    # for now, everything until 1.3 will be treated as 1, until 2.3 as two etc.\n",
    "    \n",
    "    # lambda to round function from the specific treshold defined in range [.0;1.0)\n",
    "    my_treshold = 0.3\n",
    "    tr = np.min([my_treshold, pred.max()*0.9])\n",
    "\n",
    "    myround = np.vectorize(lambda x, treshold=tr: np.floor(x) if x < (np.floor(x) + treshold) else np.ceil(x))\n",
    "\n",
    "    result = np.apply_along_axis(func1d=myround, axis=0,arr=pred)\n",
    "    return result\n",
    "\n",
    "def evaluate(model, data_loader, device, criterion):\n",
    "    \"\"\"\n",
    "    function used to evaluate the model, return loss and accuracy\n",
    "    \"\"\"\n",
    "    model.eval()\n",
    "    \n",
    "    test_loss = []\n",
    "    with torch.no_grad():\n",
    "        for  _, batch_in_vectors, batch_out_vectors in data_loader:\n",
    "            pred = model(batch_in_vectors.to(device))\n",
    "            loss = criterion(pred, batch_out_vectors.to(device))\n",
    "            test_loss.append(loss.item())\n",
    "    \n",
    "    return np.mean(test_loss)\n",
    "\n",
    "# def evaluate_real_similarity(dl_test,model,device):\n",
    "    "
   ]
  },
  {
   "cell_type": "code",
   "execution_count": 4,
   "metadata": {},
   "outputs": [],
   "source": [
    "def train_model(model, device, train_dl, test_dl, criterion, optimizer, epochs=10, save_model_last_epoch=True, model_path='.'):\n",
    "    \n",
    "    # loss that will be calculated after each epoch for both test and train set \n",
    "    train_loss_overall = []\n",
    "    test_loss_overall = [] \n",
    "    \n",
    "    for epoch in range(epochs):\n",
    "        epoch_loss = []\n",
    "        model.train()  # Set the model to training mode\n",
    "        \n",
    "        # Wrap dataloader with tqdm for progress visualization\n",
    "        for _, batch_in_vectors, batch_out_vectors in tqdm(train_dl, desc=f'Epoch {epoch + 1}/{epochs}', unit='batch'):\n",
    "            # Convert data to tensors and move to the correct device\n",
    "            batch_in_vectors = torch.tensor(batch_in_vectors, dtype=torch.float32, requires_grad=True).to(device)\n",
    "            batch_out_vectors = torch.tensor(batch_out_vectors, dtype=torch.float32).to(device)\n",
    "            \n",
    "            # Zero the gradients\n",
    "            optimizer.zero_grad()\n",
    "\n",
    "            # Forward pass\n",
    "            outputs = model(batch_in_vectors)\n",
    "            \n",
    "            # Calculate loss\n",
    "            loss = criterion(outputs, batch_out_vectors)\n",
    "            \n",
    "            # Backward pass and optimization\n",
    "            loss.backward()\n",
    "            optimizer.step()\n",
    "\n",
    "            # Accumulate loss\n",
    "            epoch_loss.append(loss.item())\n",
    "\n",
    "        if (epoch % 10 == 0):\n",
    "            torch.save(model.state_dict(), f'models/model_betternnhard_epoch_{epoch}.pth')\n",
    "        \n",
    "        # start evaluation and append test loss\n",
    "        tmp_test_loss = evaluate(model, test_dl, device, criterion)\n",
    "        test_loss_overall.append(tmp_test_loss)\n",
    "        \n",
    "        # Calculate average train loss for the epoch\n",
    "        avg_train_loss = np.mean(epoch_loss)\n",
    "        train_loss_overall.append(avg_train_loss) # add it to the loss over all epochs\n",
    "        \n",
    "        # Print loss (both train and test) for the current epoch\n",
    "        print(f\"Epoch [{epoch+1}/{epochs}], Train loss: {avg_train_loss:.4f}, Test loss: {tmp_test_loss:.4f}\")\n",
    "\n",
    "    # ====================================\n",
    "    # AFTER TRAIN ========================\n",
    "    # ====================================\n",
    "    \n",
    "    # save the model after the last epoch if set\n",
    "    # if (save_model_last_epoch):\n",
    "    #     torch.save(model.state_dict(), f'{model_path}/model_last_epoch_{time.time_ns()}.pth')\n",
    "        \n",
    "    # print overall loss\n",
    "    print('Overall train loss: ', train_loss_overall)\n",
    "    print('Overall test loss: ', test_loss_overall)\n",
    "    # plot graph\n",
    "    plt.figure()\n",
    "    plt.plot(np.arange(0,epochs,1),train_loss_overall, label='Train loss') # train loss over all epochs\n",
    "    plt.plot(np.arange(0,epochs,1),test_loss_overall, label='Test loss') # test loss over all epochs\n",
    "    plt.title('Loss function')\n",
    "    plt.show()\n",
    "    \n",
    "    return train_loss_overall, test_loss_overall"
   ]
  },
  {
   "cell_type": "code",
   "execution_count": 12,
   "metadata": {},
   "outputs": [],
   "source": [
    "class BetterNN_hard(nn.Module):\n",
    "    \"\"\"\n",
    "    This is a better neural network model ready to use feature vector\n",
    "    \"\"\"\n",
    "    def __init__(self, input_size=40, output_size=18):\n",
    "        super(BetterNN_hard, self).__init__()\n",
    "        \n",
    "        # use relu as activation function, cause any other is not suitable for this task\n",
    "        self.activation = nn.ReLU()\n",
    "        \n",
    "        # First linear layer should take conv_output_size as input\n",
    "        self.fc1 = nn.Linear(input_size, 200)\n",
    "        \n",
    "        # the hidden part of linear layers\n",
    "        self.fc2 = nn.Linear(200, 500)  # Change input size according to fc1 output\n",
    "        self.fc3 = nn.Linear(500, 1000)\n",
    "        self.fc4 = nn.Linear(1000, 2000)\n",
    "        self.fc5 = nn.Linear(2000, 2000)\n",
    "        \n",
    "        # Conv1d layer\n",
    "        self.conv1d_kernel10 = nn.Conv1d(in_channels=1, out_channels=1, kernel_size=10)\n",
    "        \n",
    "        # Calculate the size after the Conv1d layer\n",
    "        # Assuming input_size is the length of the sequence and the input is of shape (batch_size, 1, input_size)\n",
    "        \n",
    "        self.conv1d_kernel5 = nn.Conv1d(in_channels=1, out_channels=1, kernel_size=5)\n",
    "        \n",
    "        conv_output_size = (1991 - 5 + 1)   # since linear before convolutional has output of 2000,\n",
    "                                            # kernel_size=5 and stride=1, padding=0\n",
    "        \n",
    "        self.fc6 = nn.Linear(conv_output_size, 1000)\n",
    "        self.fc7 = nn.Linear(1000, 500)\n",
    "        \n",
    "        # The output layer for classification\n",
    "        self.fc8 = nn.Linear(500, output_size)\n",
    "\n",
    "    def forward(self, x):\n",
    "        x = self.fc1(x)\n",
    "        x = self.activation(x)\n",
    "        x = self.fc2(x)\n",
    "        x = self.activation(x)\n",
    "        x = self.fc3(x)\n",
    "        x = self.activation(x)\n",
    "        x = self.fc4(x)\n",
    "        x = self.activation(x)\n",
    "        x = self.fc5(x)\n",
    "        x = self.activation(x)\n",
    "        \n",
    "        x = x.unsqueeze(1)  # add a channel dimension: (batch_size, 1, input_size)\n",
    "        x = self.conv1d_kernel10(x)  # convolutional layer 1D, kernel size 10\n",
    "        x = self.activation(x)\n",
    "        x = self.conv1d_kernel5(x) # convolutional layer 1D, kernel size 5\n",
    "        x = self.activation(x)\n",
    "        x = x.squeeze(1)     # Remove the channel dimension after conv: (batch_size, conv_output_size)\n",
    "        \n",
    "        x = self.fc6(x)\n",
    "        x = self.activation(x)\n",
    "        x = self.fc7(x)\n",
    "        x = self.activation(x)\n",
    "        x = self.fc8(x)\n",
    "        x = self.activation(x)\n",
    "        \n",
    "        return x\n",
    "   \n"
   ]
  },
  {
   "cell_type": "markdown",
   "metadata": {},
   "source": [
    "### Train part"
   ]
  },
  {
   "cell_type": "code",
   "execution_count": 5,
   "metadata": {},
   "outputs": [],
   "source": [
    "# load data\n",
    "TRAIN_IN=\"data/train_in.csv\"\n",
    "TRAIN_OUT=\"data/train_out.csv\"\n",
    "# TRAIN_IN='data/sample_in.csv'\n",
    "# TRAIN_OUT='data/sample_out.csv'\n",
    "data_train = atc_dataloader.ATCDataset_v2(TRAIN_IN, TRAIN_OUT)"
   ]
  },
  {
   "cell_type": "code",
   "execution_count": 6,
   "metadata": {},
   "outputs": [],
   "source": [
    "TEST_IN=\"data/test_in.csv\"\n",
    "TEST_OUT=\"data/test_out.csv\"\n",
    "# TEST_IN='data/sample_in.csv'\n",
    "# TEST_OUT='data/sample_out.csv'\n",
    "data_test = atc_dataloader.ATCDataset_v2(TEST_IN, TEST_OUT)"
   ]
  },
  {
   "cell_type": "code",
   "execution_count": 13,
   "metadata": {},
   "outputs": [],
   "source": [
    "model = BetterNN_hard().to(device)\n",
    "optimizer = torch.optim.SGD(model.parameters(), lr=0.0001, weight_decay=0.005)\n",
    "criterion = PredictionLoss_BOX_Wise().to(device)\n",
    "dl_train = DataLoader(data_train, batch_size=32, shuffle=True)  \n",
    "dl_test = DataLoader(data_test, batch_size=32, shuffle=False)"
   ]
  },
  {
   "cell_type": "code",
   "execution_count": null,
   "metadata": {},
   "outputs": [],
   "source": [
    "train_loss_hard, test_loss_hard = train_model(model, device, dl_train, dl_test, criterion, optimizer, epochs=100)\n",
    "torch.save(model.state_dict(), f'models/model_betterNNhard{time.time_ns()}.pth') # it will be saved, ...but just in case (rly doesnt make much sense)"
   ]
  },
  {
   "cell_type": "code",
   "execution_count": 15,
   "metadata": {},
   "outputs": [
    {
     "name": "stderr",
     "output_type": "stream",
     "text": [
      "Epoch 1/100:   0%|          | 0/3768 [00:00<?, ?batch/s]/tmp/ipykernel_63312/3614769847.py:14: UserWarning: To copy construct from a tensor, it is recommended to use sourceTensor.clone().detach() or sourceTensor.clone().detach().requires_grad_(True), rather than torch.tensor(sourceTensor).\n",
      "  batch_in_vectors = torch.tensor(batch_in_vectors, dtype=torch.float32, requires_grad=True).to(device)\n",
      "/tmp/ipykernel_63312/3614769847.py:15: UserWarning: To copy construct from a tensor, it is recommended to use sourceTensor.clone().detach() or sourceTensor.clone().detach().requires_grad_(True), rather than torch.tensor(sourceTensor).\n",
      "  batch_out_vectors = torch.tensor(batch_out_vectors, dtype=torch.float32).to(device)\n",
      "Epoch 1/100: 100%|██████████| 3768/3768 [00:14<00:00, 259.30batch/s]\n"
     ]
    },
    {
     "name": "stdout",
     "output_type": "stream",
     "text": [
      "Epoch [1/100], Train loss: 3.1069, Test loss: 3.9618\n"
     ]
    },
    {
     "name": "stderr",
     "output_type": "stream",
     "text": [
      "Epoch 2/100: 100%|██████████| 3768/3768 [00:14<00:00, 251.99batch/s]\n"
     ]
    },
    {
     "name": "stdout",
     "output_type": "stream",
     "text": [
      "Epoch [2/100], Train loss: 3.1082, Test loss: 2.8046\n"
     ]
    },
    {
     "name": "stderr",
     "output_type": "stream",
     "text": [
      "Epoch 3/100: 100%|██████████| 3768/3768 [00:14<00:00, 255.06batch/s]\n"
     ]
    },
    {
     "name": "stdout",
     "output_type": "stream",
     "text": [
      "Epoch [3/100], Train loss: 3.1245, Test loss: 2.9447\n"
     ]
    },
    {
     "name": "stderr",
     "output_type": "stream",
     "text": [
      "Epoch 4/100: 100%|██████████| 3768/3768 [00:15<00:00, 250.94batch/s]\n"
     ]
    },
    {
     "name": "stdout",
     "output_type": "stream",
     "text": [
      "Epoch [4/100], Train loss: 3.1195, Test loss: 3.1742\n"
     ]
    },
    {
     "name": "stderr",
     "output_type": "stream",
     "text": [
      "Epoch 5/100: 100%|██████████| 3768/3768 [00:14<00:00, 252.38batch/s]\n"
     ]
    },
    {
     "name": "stdout",
     "output_type": "stream",
     "text": [
      "Epoch [5/100], Train loss: 3.1193, Test loss: 3.3197\n"
     ]
    },
    {
     "name": "stderr",
     "output_type": "stream",
     "text": [
      "Epoch 6/100: 100%|██████████| 3768/3768 [00:14<00:00, 253.21batch/s]\n"
     ]
    },
    {
     "name": "stdout",
     "output_type": "stream",
     "text": [
      "Epoch [6/100], Train loss: 3.0765, Test loss: 3.1205\n"
     ]
    },
    {
     "name": "stderr",
     "output_type": "stream",
     "text": [
      "Epoch 7/100: 100%|██████████| 3768/3768 [00:15<00:00, 251.18batch/s]\n"
     ]
    },
    {
     "name": "stdout",
     "output_type": "stream",
     "text": [
      "Epoch [7/100], Train loss: 3.0821, Test loss: 2.7357\n"
     ]
    },
    {
     "name": "stderr",
     "output_type": "stream",
     "text": [
      "Epoch 8/100: 100%|██████████| 3768/3768 [00:14<00:00, 252.40batch/s]\n"
     ]
    },
    {
     "name": "stdout",
     "output_type": "stream",
     "text": [
      "Epoch [8/100], Train loss: 3.0543, Test loss: 3.3361\n"
     ]
    },
    {
     "name": "stderr",
     "output_type": "stream",
     "text": [
      "Epoch 9/100: 100%|██████████| 3768/3768 [00:15<00:00, 247.92batch/s]\n"
     ]
    },
    {
     "name": "stdout",
     "output_type": "stream",
     "text": [
      "Epoch [9/100], Train loss: 3.0552, Test loss: 3.6603\n"
     ]
    },
    {
     "name": "stderr",
     "output_type": "stream",
     "text": [
      "Epoch 10/100: 100%|██████████| 3768/3768 [00:14<00:00, 259.56batch/s]\n"
     ]
    },
    {
     "name": "stdout",
     "output_type": "stream",
     "text": [
      "Epoch [10/100], Train loss: 3.1062, Test loss: 2.8565\n"
     ]
    },
    {
     "name": "stderr",
     "output_type": "stream",
     "text": [
      "Epoch 11/100: 100%|██████████| 3768/3768 [00:14<00:00, 262.75batch/s]\n"
     ]
    },
    {
     "name": "stdout",
     "output_type": "stream",
     "text": [
      "Epoch [11/100], Train loss: 3.0935, Test loss: 4.0914\n"
     ]
    },
    {
     "name": "stderr",
     "output_type": "stream",
     "text": [
      "Epoch 12/100: 100%|██████████| 3768/3768 [00:14<00:00, 262.83batch/s]\n"
     ]
    },
    {
     "name": "stdout",
     "output_type": "stream",
     "text": [
      "Epoch [12/100], Train loss: 3.0628, Test loss: 3.0016\n"
     ]
    },
    {
     "name": "stderr",
     "output_type": "stream",
     "text": [
      "Epoch 13/100: 100%|██████████| 3768/3768 [00:14<00:00, 259.69batch/s]\n"
     ]
    },
    {
     "name": "stdout",
     "output_type": "stream",
     "text": [
      "Epoch [13/100], Train loss: 3.0469, Test loss: 3.2684\n"
     ]
    },
    {
     "name": "stderr",
     "output_type": "stream",
     "text": [
      "Epoch 14/100: 100%|██████████| 3768/3768 [00:15<00:00, 247.36batch/s]\n"
     ]
    },
    {
     "name": "stdout",
     "output_type": "stream",
     "text": [
      "Epoch [14/100], Train loss: 3.0387, Test loss: 3.2134\n"
     ]
    },
    {
     "name": "stderr",
     "output_type": "stream",
     "text": [
      "Epoch 15/100: 100%|██████████| 3768/3768 [00:14<00:00, 259.58batch/s]\n"
     ]
    },
    {
     "name": "stdout",
     "output_type": "stream",
     "text": [
      "Epoch [15/100], Train loss: 3.0665, Test loss: 2.8266\n"
     ]
    },
    {
     "name": "stderr",
     "output_type": "stream",
     "text": [
      "Epoch 16/100: 100%|██████████| 3768/3768 [00:14<00:00, 256.79batch/s]\n"
     ]
    },
    {
     "name": "stdout",
     "output_type": "stream",
     "text": [
      "Epoch [16/100], Train loss: 3.0335, Test loss: 3.7732\n"
     ]
    },
    {
     "name": "stderr",
     "output_type": "stream",
     "text": [
      "Epoch 17/100: 100%|██████████| 3768/3768 [00:14<00:00, 255.17batch/s]\n"
     ]
    },
    {
     "name": "stdout",
     "output_type": "stream",
     "text": [
      "Epoch [17/100], Train loss: 3.0539, Test loss: 3.1828\n"
     ]
    },
    {
     "name": "stderr",
     "output_type": "stream",
     "text": [
      "Epoch 18/100: 100%|██████████| 3768/3768 [00:14<00:00, 260.38batch/s]\n"
     ]
    },
    {
     "name": "stdout",
     "output_type": "stream",
     "text": [
      "Epoch [18/100], Train loss: 3.0482, Test loss: 2.9079\n"
     ]
    },
    {
     "name": "stderr",
     "output_type": "stream",
     "text": [
      "Epoch 19/100: 100%|██████████| 3768/3768 [00:14<00:00, 262.36batch/s]\n"
     ]
    },
    {
     "name": "stdout",
     "output_type": "stream",
     "text": [
      "Epoch [19/100], Train loss: 3.0553, Test loss: 3.6296\n"
     ]
    },
    {
     "name": "stderr",
     "output_type": "stream",
     "text": [
      "Epoch 20/100: 100%|██████████| 3768/3768 [00:14<00:00, 265.60batch/s]\n"
     ]
    },
    {
     "name": "stdout",
     "output_type": "stream",
     "text": [
      "Epoch [20/100], Train loss: 3.0437, Test loss: 3.0787\n"
     ]
    },
    {
     "name": "stderr",
     "output_type": "stream",
     "text": [
      "Epoch 21/100: 100%|██████████| 3768/3768 [00:14<00:00, 263.97batch/s]\n"
     ]
    },
    {
     "name": "stdout",
     "output_type": "stream",
     "text": [
      "Epoch [21/100], Train loss: 3.0417, Test loss: 3.0381\n"
     ]
    },
    {
     "name": "stderr",
     "output_type": "stream",
     "text": [
      "Epoch 22/100: 100%|██████████| 3768/3768 [00:14<00:00, 255.09batch/s]\n"
     ]
    },
    {
     "name": "stdout",
     "output_type": "stream",
     "text": [
      "Epoch [22/100], Train loss: 3.0401, Test loss: 2.9541\n"
     ]
    },
    {
     "name": "stderr",
     "output_type": "stream",
     "text": [
      "Epoch 23/100: 100%|██████████| 3768/3768 [00:14<00:00, 267.83batch/s]\n"
     ]
    },
    {
     "name": "stdout",
     "output_type": "stream",
     "text": [
      "Epoch [23/100], Train loss: 2.9918, Test loss: 2.9122\n"
     ]
    },
    {
     "name": "stderr",
     "output_type": "stream",
     "text": [
      "Epoch 24/100: 100%|██████████| 3768/3768 [00:13<00:00, 286.90batch/s]\n"
     ]
    },
    {
     "name": "stdout",
     "output_type": "stream",
     "text": [
      "Epoch [24/100], Train loss: 3.0670, Test loss: 3.2022\n"
     ]
    },
    {
     "name": "stderr",
     "output_type": "stream",
     "text": [
      "Epoch 25/100: 100%|██████████| 3768/3768 [00:13<00:00, 284.41batch/s]\n"
     ]
    },
    {
     "name": "stdout",
     "output_type": "stream",
     "text": [
      "Epoch [25/100], Train loss: 2.9944, Test loss: 3.1647\n"
     ]
    },
    {
     "name": "stderr",
     "output_type": "stream",
     "text": [
      "Epoch 26/100: 100%|██████████| 3768/3768 [00:13<00:00, 288.47batch/s]\n"
     ]
    },
    {
     "name": "stdout",
     "output_type": "stream",
     "text": [
      "Epoch [26/100], Train loss: 2.9821, Test loss: 3.8152\n"
     ]
    },
    {
     "name": "stderr",
     "output_type": "stream",
     "text": [
      "Epoch 27/100: 100%|██████████| 3768/3768 [00:13<00:00, 285.89batch/s]\n"
     ]
    },
    {
     "name": "stdout",
     "output_type": "stream",
     "text": [
      "Epoch [27/100], Train loss: 3.0293, Test loss: 2.9772\n"
     ]
    },
    {
     "name": "stderr",
     "output_type": "stream",
     "text": [
      "Epoch 28/100: 100%|██████████| 3768/3768 [00:12<00:00, 295.04batch/s]\n"
     ]
    },
    {
     "name": "stdout",
     "output_type": "stream",
     "text": [
      "Epoch [28/100], Train loss: 3.0110, Test loss: 3.1203\n"
     ]
    },
    {
     "name": "stderr",
     "output_type": "stream",
     "text": [
      "Epoch 29/100: 100%|██████████| 3768/3768 [00:13<00:00, 288.99batch/s]\n"
     ]
    },
    {
     "name": "stdout",
     "output_type": "stream",
     "text": [
      "Epoch [29/100], Train loss: 3.0190, Test loss: 3.0606\n"
     ]
    },
    {
     "name": "stderr",
     "output_type": "stream",
     "text": [
      "Epoch 30/100: 100%|██████████| 3768/3768 [00:12<00:00, 297.52batch/s]\n"
     ]
    },
    {
     "name": "stdout",
     "output_type": "stream",
     "text": [
      "Epoch [30/100], Train loss: 2.9788, Test loss: 3.0460\n"
     ]
    },
    {
     "name": "stderr",
     "output_type": "stream",
     "text": [
      "Epoch 31/100: 100%|██████████| 3768/3768 [00:12<00:00, 295.15batch/s]\n"
     ]
    },
    {
     "name": "stdout",
     "output_type": "stream",
     "text": [
      "Epoch [31/100], Train loss: 3.0171, Test loss: 3.5765\n"
     ]
    },
    {
     "name": "stderr",
     "output_type": "stream",
     "text": [
      "Epoch 32/100: 100%|██████████| 3768/3768 [00:12<00:00, 290.34batch/s]\n"
     ]
    },
    {
     "name": "stdout",
     "output_type": "stream",
     "text": [
      "Epoch [32/100], Train loss: 3.0078, Test loss: 3.1571\n"
     ]
    },
    {
     "name": "stderr",
     "output_type": "stream",
     "text": [
      "Epoch 33/100: 100%|██████████| 3768/3768 [00:13<00:00, 288.78batch/s]\n"
     ]
    },
    {
     "name": "stdout",
     "output_type": "stream",
     "text": [
      "Epoch [33/100], Train loss: 2.9760, Test loss: 3.0482\n"
     ]
    },
    {
     "name": "stderr",
     "output_type": "stream",
     "text": [
      "Epoch 34/100: 100%|██████████| 3768/3768 [00:12<00:00, 290.15batch/s]\n"
     ]
    },
    {
     "name": "stdout",
     "output_type": "stream",
     "text": [
      "Epoch [34/100], Train loss: 2.9820, Test loss: 3.0319\n"
     ]
    },
    {
     "name": "stderr",
     "output_type": "stream",
     "text": [
      "Epoch 35/100: 100%|██████████| 3768/3768 [00:12<00:00, 291.91batch/s]\n"
     ]
    },
    {
     "name": "stdout",
     "output_type": "stream",
     "text": [
      "Epoch [35/100], Train loss: 2.9872, Test loss: 2.9587\n"
     ]
    },
    {
     "name": "stderr",
     "output_type": "stream",
     "text": [
      "Epoch 36/100: 100%|██████████| 3768/3768 [00:13<00:00, 287.20batch/s]\n"
     ]
    },
    {
     "name": "stdout",
     "output_type": "stream",
     "text": [
      "Epoch [36/100], Train loss: 2.9774, Test loss: 3.2223\n"
     ]
    },
    {
     "name": "stderr",
     "output_type": "stream",
     "text": [
      "Epoch 37/100: 100%|██████████| 3768/3768 [00:13<00:00, 281.93batch/s]\n"
     ]
    },
    {
     "name": "stdout",
     "output_type": "stream",
     "text": [
      "Epoch [37/100], Train loss: 2.9792, Test loss: 3.0180\n"
     ]
    },
    {
     "name": "stderr",
     "output_type": "stream",
     "text": [
      "Epoch 38/100: 100%|██████████| 3768/3768 [00:14<00:00, 252.64batch/s]\n"
     ]
    },
    {
     "name": "stdout",
     "output_type": "stream",
     "text": [
      "Epoch [38/100], Train loss: 2.9835, Test loss: 3.5073\n"
     ]
    },
    {
     "name": "stderr",
     "output_type": "stream",
     "text": [
      "Epoch 39/100: 100%|██████████| 3768/3768 [00:14<00:00, 261.43batch/s]\n"
     ]
    },
    {
     "name": "stdout",
     "output_type": "stream",
     "text": [
      "Epoch [39/100], Train loss: 2.9841, Test loss: 3.1092\n"
     ]
    },
    {
     "name": "stderr",
     "output_type": "stream",
     "text": [
      "Epoch 40/100: 100%|██████████| 3768/3768 [00:14<00:00, 265.71batch/s]\n"
     ]
    },
    {
     "name": "stdout",
     "output_type": "stream",
     "text": [
      "Epoch [40/100], Train loss: 2.9999, Test loss: 3.0834\n"
     ]
    },
    {
     "name": "stderr",
     "output_type": "stream",
     "text": [
      "Epoch 41/100: 100%|██████████| 3768/3768 [00:14<00:00, 258.30batch/s]\n"
     ]
    },
    {
     "name": "stdout",
     "output_type": "stream",
     "text": [
      "Epoch [41/100], Train loss: 2.9442, Test loss: 3.1468\n"
     ]
    },
    {
     "name": "stderr",
     "output_type": "stream",
     "text": [
      "Epoch 42/100: 100%|██████████| 3768/3768 [00:13<00:00, 273.06batch/s]\n"
     ]
    },
    {
     "name": "stdout",
     "output_type": "stream",
     "text": [
      "Epoch [42/100], Train loss: 2.9679, Test loss: 2.8783\n"
     ]
    },
    {
     "name": "stderr",
     "output_type": "stream",
     "text": [
      "Epoch 43/100: 100%|██████████| 3768/3768 [00:14<00:00, 260.58batch/s]\n"
     ]
    },
    {
     "name": "stdout",
     "output_type": "stream",
     "text": [
      "Epoch [43/100], Train loss: 2.9735, Test loss: 2.8328\n"
     ]
    },
    {
     "name": "stderr",
     "output_type": "stream",
     "text": [
      "Epoch 44/100: 100%|██████████| 3768/3768 [00:14<00:00, 263.21batch/s]\n"
     ]
    },
    {
     "name": "stdout",
     "output_type": "stream",
     "text": [
      "Epoch [44/100], Train loss: 2.9454, Test loss: 3.5346\n"
     ]
    },
    {
     "name": "stderr",
     "output_type": "stream",
     "text": [
      "Epoch 45/100: 100%|██████████| 3768/3768 [00:14<00:00, 256.50batch/s]\n"
     ]
    },
    {
     "name": "stdout",
     "output_type": "stream",
     "text": [
      "Epoch [45/100], Train loss: 2.9897, Test loss: 3.2697\n"
     ]
    },
    {
     "name": "stderr",
     "output_type": "stream",
     "text": [
      "Epoch 46/100: 100%|██████████| 3768/3768 [00:14<00:00, 254.61batch/s]\n"
     ]
    },
    {
     "name": "stdout",
     "output_type": "stream",
     "text": [
      "Epoch [46/100], Train loss: 2.9666, Test loss: 3.1694\n"
     ]
    },
    {
     "name": "stderr",
     "output_type": "stream",
     "text": [
      "Epoch 47/100: 100%|██████████| 3768/3768 [00:14<00:00, 262.16batch/s]\n"
     ]
    },
    {
     "name": "stdout",
     "output_type": "stream",
     "text": [
      "Epoch [47/100], Train loss: 2.9577, Test loss: 2.9192\n"
     ]
    },
    {
     "name": "stderr",
     "output_type": "stream",
     "text": [
      "Epoch 48/100: 100%|██████████| 3768/3768 [00:12<00:00, 291.87batch/s]\n"
     ]
    },
    {
     "name": "stdout",
     "output_type": "stream",
     "text": [
      "Epoch [48/100], Train loss: 2.9089, Test loss: 2.7743\n"
     ]
    },
    {
     "name": "stderr",
     "output_type": "stream",
     "text": [
      "Epoch 49/100: 100%|██████████| 3768/3768 [00:13<00:00, 270.46batch/s]\n"
     ]
    },
    {
     "name": "stdout",
     "output_type": "stream",
     "text": [
      "Epoch [49/100], Train loss: 2.9666, Test loss: 3.1256\n"
     ]
    },
    {
     "name": "stderr",
     "output_type": "stream",
     "text": [
      "Epoch 50/100: 100%|██████████| 3768/3768 [00:14<00:00, 260.39batch/s]\n"
     ]
    },
    {
     "name": "stdout",
     "output_type": "stream",
     "text": [
      "Epoch [50/100], Train loss: 2.9286, Test loss: 3.1111\n"
     ]
    },
    {
     "name": "stderr",
     "output_type": "stream",
     "text": [
      "Epoch 51/100: 100%|██████████| 3768/3768 [00:14<00:00, 268.37batch/s]\n"
     ]
    },
    {
     "name": "stdout",
     "output_type": "stream",
     "text": [
      "Epoch [51/100], Train loss: 2.9467, Test loss: 2.7586\n"
     ]
    },
    {
     "name": "stderr",
     "output_type": "stream",
     "text": [
      "Epoch 52/100: 100%|██████████| 3768/3768 [00:14<00:00, 255.05batch/s]\n"
     ]
    },
    {
     "name": "stdout",
     "output_type": "stream",
     "text": [
      "Epoch [52/100], Train loss: 2.9830, Test loss: 2.7623\n"
     ]
    },
    {
     "name": "stderr",
     "output_type": "stream",
     "text": [
      "Epoch 53/100: 100%|██████████| 3768/3768 [00:14<00:00, 257.83batch/s]\n"
     ]
    },
    {
     "name": "stdout",
     "output_type": "stream",
     "text": [
      "Epoch [53/100], Train loss: 2.9326, Test loss: 2.9251\n"
     ]
    },
    {
     "name": "stderr",
     "output_type": "stream",
     "text": [
      "Epoch 54/100: 100%|██████████| 3768/3768 [00:13<00:00, 272.72batch/s]\n"
     ]
    },
    {
     "name": "stdout",
     "output_type": "stream",
     "text": [
      "Epoch [54/100], Train loss: 2.9301, Test loss: 3.2223\n"
     ]
    },
    {
     "name": "stderr",
     "output_type": "stream",
     "text": [
      "Epoch 55/100: 100%|██████████| 3768/3768 [00:13<00:00, 271.55batch/s]\n"
     ]
    },
    {
     "name": "stdout",
     "output_type": "stream",
     "text": [
      "Epoch [55/100], Train loss: 2.9201, Test loss: 3.7158\n"
     ]
    },
    {
     "name": "stderr",
     "output_type": "stream",
     "text": [
      "Epoch 56/100: 100%|██████████| 3768/3768 [00:13<00:00, 271.47batch/s]\n"
     ]
    },
    {
     "name": "stdout",
     "output_type": "stream",
     "text": [
      "Epoch [56/100], Train loss: 2.9343, Test loss: 4.6012\n"
     ]
    },
    {
     "name": "stderr",
     "output_type": "stream",
     "text": [
      "Epoch 57/100: 100%|██████████| 3768/3768 [00:13<00:00, 271.42batch/s]\n"
     ]
    },
    {
     "name": "stdout",
     "output_type": "stream",
     "text": [
      "Epoch [57/100], Train loss: 2.9503, Test loss: 3.2155\n"
     ]
    },
    {
     "name": "stderr",
     "output_type": "stream",
     "text": [
      "Epoch 58/100: 100%|██████████| 3768/3768 [00:14<00:00, 262.57batch/s]\n"
     ]
    },
    {
     "name": "stdout",
     "output_type": "stream",
     "text": [
      "Epoch [58/100], Train loss: 2.9146, Test loss: 3.1667\n"
     ]
    },
    {
     "name": "stderr",
     "output_type": "stream",
     "text": [
      "Epoch 59/100: 100%|██████████| 3768/3768 [00:14<00:00, 261.41batch/s]\n"
     ]
    },
    {
     "name": "stdout",
     "output_type": "stream",
     "text": [
      "Epoch [59/100], Train loss: 2.9467, Test loss: 2.8603\n"
     ]
    },
    {
     "name": "stderr",
     "output_type": "stream",
     "text": [
      "Epoch 60/100: 100%|██████████| 3768/3768 [00:14<00:00, 262.12batch/s]\n"
     ]
    },
    {
     "name": "stdout",
     "output_type": "stream",
     "text": [
      "Epoch [60/100], Train loss: 2.9437, Test loss: 2.9816\n"
     ]
    },
    {
     "name": "stderr",
     "output_type": "stream",
     "text": [
      "Epoch 61/100: 100%|██████████| 3768/3768 [00:14<00:00, 262.76batch/s]\n"
     ]
    },
    {
     "name": "stdout",
     "output_type": "stream",
     "text": [
      "Epoch [61/100], Train loss: 2.9282, Test loss: 3.0461\n"
     ]
    },
    {
     "name": "stderr",
     "output_type": "stream",
     "text": [
      "Epoch 62/100: 100%|██████████| 3768/3768 [00:14<00:00, 260.94batch/s]\n"
     ]
    },
    {
     "name": "stdout",
     "output_type": "stream",
     "text": [
      "Epoch [62/100], Train loss: 2.8898, Test loss: 3.2967\n"
     ]
    },
    {
     "name": "stderr",
     "output_type": "stream",
     "text": [
      "Epoch 63/100: 100%|██████████| 3768/3768 [00:14<00:00, 267.13batch/s]\n"
     ]
    },
    {
     "name": "stdout",
     "output_type": "stream",
     "text": [
      "Epoch [63/100], Train loss: 2.8825, Test loss: 3.1115\n"
     ]
    },
    {
     "name": "stderr",
     "output_type": "stream",
     "text": [
      "Epoch 64/100: 100%|██████████| 3768/3768 [00:14<00:00, 256.32batch/s]\n"
     ]
    },
    {
     "name": "stdout",
     "output_type": "stream",
     "text": [
      "Epoch [64/100], Train loss: 2.9221, Test loss: 2.7242\n"
     ]
    },
    {
     "name": "stderr",
     "output_type": "stream",
     "text": [
      "Epoch 65/100: 100%|██████████| 3768/3768 [00:14<00:00, 257.90batch/s]\n"
     ]
    },
    {
     "name": "stdout",
     "output_type": "stream",
     "text": [
      "Epoch [65/100], Train loss: 2.9043, Test loss: 4.0317\n"
     ]
    },
    {
     "name": "stderr",
     "output_type": "stream",
     "text": [
      "Epoch 66/100: 100%|██████████| 3768/3768 [00:14<00:00, 260.20batch/s]\n"
     ]
    },
    {
     "name": "stdout",
     "output_type": "stream",
     "text": [
      "Epoch [66/100], Train loss: 2.9251, Test loss: 3.2300\n"
     ]
    },
    {
     "name": "stderr",
     "output_type": "stream",
     "text": [
      "Epoch 67/100: 100%|██████████| 3768/3768 [00:14<00:00, 263.17batch/s]\n"
     ]
    },
    {
     "name": "stdout",
     "output_type": "stream",
     "text": [
      "Epoch [67/100], Train loss: 2.9031, Test loss: 2.8641\n"
     ]
    },
    {
     "name": "stderr",
     "output_type": "stream",
     "text": [
      "Epoch 68/100: 100%|██████████| 3768/3768 [00:14<00:00, 264.94batch/s]\n"
     ]
    },
    {
     "name": "stdout",
     "output_type": "stream",
     "text": [
      "Epoch [68/100], Train loss: 2.9133, Test loss: 3.0263\n"
     ]
    },
    {
     "name": "stderr",
     "output_type": "stream",
     "text": [
      "Epoch 69/100: 100%|██████████| 3768/3768 [00:14<00:00, 265.59batch/s]\n"
     ]
    },
    {
     "name": "stdout",
     "output_type": "stream",
     "text": [
      "Epoch [69/100], Train loss: 2.9032, Test loss: 2.7099\n"
     ]
    },
    {
     "name": "stderr",
     "output_type": "stream",
     "text": [
      "Epoch 70/100: 100%|██████████| 3768/3768 [00:14<00:00, 261.02batch/s]\n"
     ]
    },
    {
     "name": "stdout",
     "output_type": "stream",
     "text": [
      "Epoch [70/100], Train loss: 2.8932, Test loss: 2.8442\n"
     ]
    },
    {
     "name": "stderr",
     "output_type": "stream",
     "text": [
      "Epoch 71/100: 100%|██████████| 3768/3768 [00:14<00:00, 264.34batch/s]\n"
     ]
    },
    {
     "name": "stdout",
     "output_type": "stream",
     "text": [
      "Epoch [71/100], Train loss: 2.9092, Test loss: 4.1708\n"
     ]
    },
    {
     "name": "stderr",
     "output_type": "stream",
     "text": [
      "Epoch 72/100: 100%|██████████| 3768/3768 [00:14<00:00, 265.70batch/s]\n"
     ]
    },
    {
     "name": "stdout",
     "output_type": "stream",
     "text": [
      "Epoch [72/100], Train loss: 2.9216, Test loss: 3.8002\n"
     ]
    },
    {
     "name": "stderr",
     "output_type": "stream",
     "text": [
      "Epoch 73/100: 100%|██████████| 3768/3768 [00:14<00:00, 264.93batch/s]\n"
     ]
    },
    {
     "name": "stdout",
     "output_type": "stream",
     "text": [
      "Epoch [73/100], Train loss: 2.9014, Test loss: 2.6943\n"
     ]
    },
    {
     "name": "stderr",
     "output_type": "stream",
     "text": [
      "Epoch 74/100: 100%|██████████| 3768/3768 [00:14<00:00, 266.34batch/s]\n"
     ]
    },
    {
     "name": "stdout",
     "output_type": "stream",
     "text": [
      "Epoch [74/100], Train loss: 2.8891, Test loss: 2.8885\n"
     ]
    },
    {
     "name": "stderr",
     "output_type": "stream",
     "text": [
      "Epoch 75/100: 100%|██████████| 3768/3768 [00:14<00:00, 265.46batch/s]\n"
     ]
    },
    {
     "name": "stdout",
     "output_type": "stream",
     "text": [
      "Epoch [75/100], Train loss: 2.9225, Test loss: 3.8255\n"
     ]
    },
    {
     "name": "stderr",
     "output_type": "stream",
     "text": [
      "Epoch 76/100: 100%|██████████| 3768/3768 [00:14<00:00, 266.42batch/s]\n"
     ]
    },
    {
     "name": "stdout",
     "output_type": "stream",
     "text": [
      "Epoch [76/100], Train loss: 2.8827, Test loss: 4.1113\n"
     ]
    },
    {
     "name": "stderr",
     "output_type": "stream",
     "text": [
      "Epoch 77/100: 100%|██████████| 3768/3768 [00:14<00:00, 264.72batch/s]\n"
     ]
    },
    {
     "name": "stdout",
     "output_type": "stream",
     "text": [
      "Epoch [77/100], Train loss: 2.8979, Test loss: 2.9629\n"
     ]
    },
    {
     "name": "stderr",
     "output_type": "stream",
     "text": [
      "Epoch 78/100: 100%|██████████| 3768/3768 [00:14<00:00, 257.33batch/s]\n"
     ]
    },
    {
     "name": "stdout",
     "output_type": "stream",
     "text": [
      "Epoch [78/100], Train loss: 2.8749, Test loss: 3.4490\n"
     ]
    },
    {
     "name": "stderr",
     "output_type": "stream",
     "text": [
      "Epoch 79/100: 100%|██████████| 3768/3768 [00:14<00:00, 262.19batch/s]\n"
     ]
    },
    {
     "name": "stdout",
     "output_type": "stream",
     "text": [
      "Epoch [79/100], Train loss: 2.8467, Test loss: 2.9281\n"
     ]
    },
    {
     "name": "stderr",
     "output_type": "stream",
     "text": [
      "Epoch 80/100: 100%|██████████| 3768/3768 [00:14<00:00, 266.14batch/s]\n"
     ]
    },
    {
     "name": "stdout",
     "output_type": "stream",
     "text": [
      "Epoch [80/100], Train loss: 2.8659, Test loss: 2.8203\n"
     ]
    },
    {
     "name": "stderr",
     "output_type": "stream",
     "text": [
      "Epoch 81/100: 100%|██████████| 3768/3768 [00:14<00:00, 266.17batch/s]\n"
     ]
    },
    {
     "name": "stdout",
     "output_type": "stream",
     "text": [
      "Epoch [81/100], Train loss: 2.8559, Test loss: 2.8851\n"
     ]
    },
    {
     "name": "stderr",
     "output_type": "stream",
     "text": [
      "Epoch 82/100: 100%|██████████| 3768/3768 [00:14<00:00, 265.98batch/s]\n"
     ]
    },
    {
     "name": "stdout",
     "output_type": "stream",
     "text": [
      "Epoch [82/100], Train loss: 2.8812, Test loss: 3.2164\n"
     ]
    },
    {
     "name": "stderr",
     "output_type": "stream",
     "text": [
      "Epoch 83/100: 100%|██████████| 3768/3768 [00:14<00:00, 265.54batch/s]\n"
     ]
    },
    {
     "name": "stdout",
     "output_type": "stream",
     "text": [
      "Epoch [83/100], Train loss: 2.8764, Test loss: 3.3201\n"
     ]
    },
    {
     "name": "stderr",
     "output_type": "stream",
     "text": [
      "Epoch 84/100: 100%|██████████| 3768/3768 [00:14<00:00, 265.59batch/s]\n"
     ]
    },
    {
     "name": "stdout",
     "output_type": "stream",
     "text": [
      "Epoch [84/100], Train loss: 2.8814, Test loss: 3.5499\n"
     ]
    },
    {
     "name": "stderr",
     "output_type": "stream",
     "text": [
      "Epoch 85/100: 100%|██████████| 3768/3768 [00:14<00:00, 265.88batch/s]\n"
     ]
    },
    {
     "name": "stdout",
     "output_type": "stream",
     "text": [
      "Epoch [85/100], Train loss: 2.8888, Test loss: 2.9704\n"
     ]
    },
    {
     "name": "stderr",
     "output_type": "stream",
     "text": [
      "Epoch 86/100: 100%|██████████| 3768/3768 [00:14<00:00, 264.65batch/s]\n"
     ]
    },
    {
     "name": "stdout",
     "output_type": "stream",
     "text": [
      "Epoch [86/100], Train loss: 2.8613, Test loss: 3.4820\n"
     ]
    },
    {
     "name": "stderr",
     "output_type": "stream",
     "text": [
      "Epoch 87/100: 100%|██████████| 3768/3768 [00:14<00:00, 267.26batch/s]\n"
     ]
    },
    {
     "name": "stdout",
     "output_type": "stream",
     "text": [
      "Epoch [87/100], Train loss: 2.8596, Test loss: 3.5308\n"
     ]
    },
    {
     "name": "stderr",
     "output_type": "stream",
     "text": [
      "Epoch 88/100: 100%|██████████| 3768/3768 [00:14<00:00, 266.19batch/s]\n"
     ]
    },
    {
     "name": "stdout",
     "output_type": "stream",
     "text": [
      "Epoch [88/100], Train loss: 2.8366, Test loss: 2.9743\n"
     ]
    },
    {
     "name": "stderr",
     "output_type": "stream",
     "text": [
      "Epoch 89/100: 100%|██████████| 3768/3768 [00:14<00:00, 265.64batch/s]\n"
     ]
    },
    {
     "name": "stdout",
     "output_type": "stream",
     "text": [
      "Epoch [89/100], Train loss: 2.8675, Test loss: 2.9159\n"
     ]
    },
    {
     "name": "stderr",
     "output_type": "stream",
     "text": [
      "Epoch 90/100: 100%|██████████| 3768/3768 [00:14<00:00, 267.56batch/s]\n"
     ]
    },
    {
     "name": "stdout",
     "output_type": "stream",
     "text": [
      "Epoch [90/100], Train loss: 2.8215, Test loss: 2.8350\n"
     ]
    },
    {
     "name": "stderr",
     "output_type": "stream",
     "text": [
      "Epoch 91/100: 100%|██████████| 3768/3768 [00:14<00:00, 265.31batch/s]\n"
     ]
    },
    {
     "name": "stdout",
     "output_type": "stream",
     "text": [
      "Epoch [91/100], Train loss: 2.8246, Test loss: 2.8596\n"
     ]
    },
    {
     "name": "stderr",
     "output_type": "stream",
     "text": [
      "Epoch 92/100: 100%|██████████| 3768/3768 [00:14<00:00, 266.56batch/s]\n"
     ]
    },
    {
     "name": "stdout",
     "output_type": "stream",
     "text": [
      "Epoch [92/100], Train loss: 2.8466, Test loss: 2.9508\n"
     ]
    },
    {
     "name": "stderr",
     "output_type": "stream",
     "text": [
      "Epoch 93/100: 100%|██████████| 3768/3768 [00:14<00:00, 266.18batch/s]\n"
     ]
    },
    {
     "name": "stdout",
     "output_type": "stream",
     "text": [
      "Epoch [93/100], Train loss: 2.8295, Test loss: 3.2614\n"
     ]
    },
    {
     "name": "stderr",
     "output_type": "stream",
     "text": [
      "Epoch 94/100: 100%|██████████| 3768/3768 [00:14<00:00, 266.28batch/s]\n"
     ]
    },
    {
     "name": "stdout",
     "output_type": "stream",
     "text": [
      "Epoch [94/100], Train loss: 2.8439, Test loss: 3.2293\n"
     ]
    },
    {
     "name": "stderr",
     "output_type": "stream",
     "text": [
      "Epoch 95/100: 100%|██████████| 3768/3768 [00:14<00:00, 266.16batch/s]\n"
     ]
    },
    {
     "name": "stdout",
     "output_type": "stream",
     "text": [
      "Epoch [95/100], Train loss: 2.8315, Test loss: 2.9893\n"
     ]
    },
    {
     "name": "stderr",
     "output_type": "stream",
     "text": [
      "Epoch 96/100: 100%|██████████| 3768/3768 [00:14<00:00, 263.75batch/s]\n"
     ]
    },
    {
     "name": "stdout",
     "output_type": "stream",
     "text": [
      "Epoch [96/100], Train loss: 2.8190, Test loss: 2.9708\n"
     ]
    },
    {
     "name": "stderr",
     "output_type": "stream",
     "text": [
      "Epoch 97/100: 100%|██████████| 3768/3768 [00:14<00:00, 264.91batch/s]\n"
     ]
    },
    {
     "name": "stdout",
     "output_type": "stream",
     "text": [
      "Epoch [97/100], Train loss: 2.8306, Test loss: 3.8217\n"
     ]
    },
    {
     "name": "stderr",
     "output_type": "stream",
     "text": [
      "Epoch 98/100: 100%|██████████| 3768/3768 [00:14<00:00, 266.32batch/s]\n"
     ]
    },
    {
     "name": "stdout",
     "output_type": "stream",
     "text": [
      "Epoch [98/100], Train loss: 2.8491, Test loss: 3.4486\n"
     ]
    },
    {
     "name": "stderr",
     "output_type": "stream",
     "text": [
      "Epoch 99/100: 100%|██████████| 3768/3768 [00:14<00:00, 266.20batch/s]\n"
     ]
    },
    {
     "name": "stdout",
     "output_type": "stream",
     "text": [
      "Epoch [99/100], Train loss: 2.8292, Test loss: 3.4983\n"
     ]
    },
    {
     "name": "stderr",
     "output_type": "stream",
     "text": [
      "Epoch 100/100: 100%|██████████| 3768/3768 [00:14<00:00, 265.00batch/s]\n"
     ]
    },
    {
     "name": "stdout",
     "output_type": "stream",
     "text": [
      "Epoch [100/100], Train loss: 2.8527, Test loss: 4.6015\n",
      "Overall train loss:  [3.1068669879006228, 3.1082348058083253, 3.1245219177762222, 3.1195395445795198, 3.1192530172515163, 3.0764896142614844, 3.082126432677806, 3.0543271548721758, 3.055158416422246, 3.106180450525095, 3.093524911191765, 3.0627642290136774, 3.046918819705914, 3.0387153127734923, 3.066530593668927, 3.033484065501838, 3.053853787254392, 3.04820116795204, 3.0552611072407343, 3.043737397578618, 3.041720458120503, 3.0401343054626526, 2.991832897272712, 3.0670035321051907, 2.9943708771100215, 2.9820815749830247, 3.0292770263626223, 3.0110391213097896, 3.019018719457248, 2.978827275575046, 3.0171432091583616, 3.0078428323161166, 2.9759781446086437, 2.981982182359398, 2.987182569019734, 2.977446987750424, 2.9792132819201917, 2.983498258237389, 2.984117147170656, 2.999927326973583, 2.944176744005293, 2.9678791525898274, 2.9734880081407584, 2.9453858577185597, 2.9897126179928013, 2.966610522193324, 2.957736239189207, 2.908937218887712, 2.9665985754562536, 2.928563385412904, 2.9466952894974474, 2.98300200139989, 2.9326236891360544, 2.930058414848114, 2.9200631440369977, 2.934332631789385, 2.950314913955448, 2.914645364879771, 2.946703465445849, 2.9437120946859765, 2.9282148293162162, 2.8898412775912674, 2.8824574149662587, 2.922055180603737, 2.9043436010868433, 2.925147692504835, 2.9030732782063273, 2.9133338757915195, 2.903151974038492, 2.893208592546799, 2.9091600384325926, 2.9215754059473578, 2.901419979549802, 2.8890715361416595, 2.922483839654223, 2.8826583775072785, 2.8978825474153975, 2.8748980420157153, 2.8466993376826215, 2.8658593293030266, 2.85593875772033, 2.8812049257444445, 2.8764106391705653, 2.8814340997526853, 2.8888369921946824, 2.8613447054524586, 2.8595646549601526, 2.8365735602100437, 2.8674833774171185, 2.8214890760648403, 2.824643903926031, 2.846607189407995, 2.829528086233465, 2.843909769073809, 2.8314839671988774, 2.819037084388616, 2.8305978931925573, 2.8490760435633, 2.8291709722432996, 2.8526980740051804]\n",
      "Overall test loss:  [3.9618436313390477, 2.804578879899533, 2.94471969450735, 3.1741973670583117, 3.3197207700168505, 3.120479885401746, 2.7356616320630294, 3.336129477417646, 3.6603113028305856, 2.856527334423202, 4.091424553858753, 3.001626971927165, 3.2684010855078443, 3.213352553277512, 2.8266094711682346, 3.77315290783178, 3.1827682885647834, 2.907875000876859, 3.6296183350644293, 3.078691299269154, 3.0381127979661757, 2.9540879823220005, 2.9122222276788103, 3.202201118862806, 3.1646695694156515, 3.8152173429158083, 2.9771753845700792, 3.120333031515913, 3.060639794465083, 3.0460282576659936, 3.5764951266807103, 3.1571009075882075, 3.0481942100984276, 3.031919868318898, 2.9586507249030336, 3.222312412697292, 3.0180184998709683, 3.507283387844097, 3.109192680638687, 3.0833776343590134, 3.1468366859698245, 2.8783054812129136, 2.832764593722208, 3.534609446448379, 3.269700203636649, 3.1693933821281304, 2.919211050016991, 2.7742717260467145, 3.125550228952096, 3.1111176796020215, 2.758582489703428, 2.7622684511314533, 2.9251351041557174, 3.2223443653901165, 3.715801133313503, 4.601182079349987, 3.215489155152168, 3.1667195833159605, 2.860310816144741, 2.981628100710057, 3.04613231154131, 3.296651068703131, 3.111476966925361, 2.7242384946998013, 4.031657789804184, 3.2299777509964955, 2.8641098062102457, 3.0262667623896253, 2.709886027061066, 2.844205572884807, 4.170752416813703, 3.800187663635884, 2.6943251894601086, 2.8885473970268434, 3.8255247881204966, 4.111273774390767, 2.962863391870336, 3.44900068569525, 2.9281382364104256, 2.820307635577621, 2.8850575884657808, 3.216392245689395, 3.3201227242368296, 3.549850242105639, 2.9703745387352196, 3.4819975276566613, 3.5307832439914506, 2.9743466927905247, 2.915947342311248, 2.835008365808019, 2.8596165130377575, 2.9508090999665533, 3.2613840522422533, 3.229284359960799, 2.989254503556371, 2.9707924343977763, 3.82172219480552, 3.448648160319546, 3.498341569412033, 4.601541335257502]\n"
     ]
    },
    {
     "data": {
      "image/png": "[encoded data removed]",
      "text/plain": [
       "<Figure size 640x480 with 1 Axes>"
      ]
     },
     "metadata": {},
     "output_type": "display_data"
    }
   ],
   "source": [
    "train_loss_hard2, test_loss_hard2 = train_model(model, device, dl_train, dl_test, criterion, optimizer, epochs=100)\n",
    "torch.save(model.state_dict(), f'models/model_betterNNhard_200epochs.pth') # it will be saved, ...but just in case (rly doesnt make much sense)"
   ]
  },
  {
   "cell_type": "code",
   "execution_count": 16,
   "metadata": {},
   "outputs": [
    {
     "data": {
      "image/png": "[encoded data removed]",
      "text/plain": [
       "<Figure size 640x480 with 1 Axes>"
      ]
     },
     "metadata": {},
     "output_type": "display_data"
    }
   ],
   "source": [
    "# all train loss\n",
    "plt.figure()\n",
    "train_loss_y = np.concatenate((train_loss_hard, train_loss_hard2))\n",
    "test_loss_y = np.concatenate((test_loss_hard, test_loss_hard2))\n",
    "x_loss = np.arange(0,len(train_loss_y),1)\n",
    "plt.plot(x_loss,train_loss_y, label='Train loss') # train loss over all epochs\n",
    "plt.plot(x_loss,test_loss_y, label='Test loss') # test loss over all epochs\n",
    "plt.title('Loss function')\n",
    "plt.legend()\n",
    "plt.show()\n",
    "\n",
    "file = open('models/res/loss_betterNNhard.txt', 'w')\n",
    "file.write('Train loss: \\n')\n",
    "file.write(str(train_loss_y))\n",
    "file.write('\\n')\n",
    "file.write('Test loss: \\n')\n",
    "file.write(str(test_loss_y))\n",
    "file.close()"
   ]
  }
 ],
 "metadata": {
  "kernelspec": {
   "display_name": "Python 3",
   "language": "python",
   "name": "python3"
  },
  "language_info": {
   "codemirror_mode": {
    "name": "ipython",
    "version": 3
   },
   "file_extension": ".py",
   "mimetype": "text/x-python",
   "name": "python",
   "nbconvert_exporter": "python",
   "pygments_lexer": "ipython3",
   "version": "3.12.6"
  }
 },
 "nbformat": 4,
 "nbformat_minor": 2
}
