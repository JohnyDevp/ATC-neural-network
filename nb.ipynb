{
 "cells": [
  {
   "cell_type": "code",
   "execution_count": 1,
   "metadata": {},
   "outputs": [],
   "source": [
    "# imports\n",
    "import atc_dataloader, atc_model\n",
    "import torch\n",
    "from torch.utils.data import DataLoader\n",
    "from torch import nn\n",
    "import matplotlib.pyplot as plt\n",
    "import numpy as np"
   ]
  },
  {
   "cell_type": "code",
   "execution_count": 2,
   "metadata": {},
   "outputs": [],
   "source": [
    "# set the device\n",
    "device = 'cuda' if torch.cuda.is_available() else 'cpu'"
   ]
  },
  {
   "cell_type": "code",
   "execution_count": 5,
   "metadata": {},
   "outputs": [],
   "source": [
    "def train_model(model, dataset_train, dataset_test, optimizer, epochs=10):\n",
    "    \n",
    "    # define loss function and optimizer\n",
    "    criterion = nn.CrossEntropyLoss(weight=torch.FloatTensor([20/152,132/152])).to(device)\n",
    "    \n",
    "\n",
    "    # create DataLoader for batch processing\n",
    "    batch_size = 32\n",
    "    dataloader = DataLoader(dataset, batch_size=batch_size, shuffle=True)\n",
    "\n",
    "    losses_overall = []\n",
    "\n",
    "    # training\n",
    "    num_epochs = 100\n",
    "    for epoch in range(num_epochs):\n",
    "        losses = []\n",
    "        for batch_inputs, batch_labels in dataloader:\n",
    "            # forward\n",
    "            outputs = model(batch_inputs)\n",
    "            \n",
    "            # torch.save(model.state_dict(), PATH)\n",
    "            # loss\n",
    "            loss = criterion(outputs, batch_labels)\n",
    "            if epoch > 0 : nn.utils.clip_grad_value_(model.parameters(), 0.0005)\n",
    "\n",
    "            # Backpropagation and optimization\n",
    "            optimizer.zero_grad()\n",
    "            loss.backward()\n",
    "            optimizer.step()\n",
    "            losses.append(loss.item())\n",
    "            \n",
    "        losses_overall.append(np.mean(losses))\n",
    "        print(f'Epoch {epoch+1}/{num_epochs}, Loss: {np.mean(losses)}')\n",
    "\n",
    "    # plot graph\n",
    "    plt.plot(np.arange(0,num_epochs,1),losses_overall)\n",
    "    plt.title('Loss function')\n",
    "    plt.show()"
   ]
  },
  {
   "cell_type": "code",
   "execution_count": 4,
   "metadata": {},
   "outputs": [],
   "source": [
    "# load data\n",
    "TRAIN_IN=\"data/train_in.csv\"\n",
    "TRAIN_OUT=\"data/train_out.csv\"\n",
    "\n",
    "data_train = atc_dataloader.ATCDataset(TRAIN_IN, TRAIN_OUT)\n",
    "\n",
    "TEST_IN=\"data/test_in.csv\"\n",
    "TEST_OUT=\"data/test_out.csv\"\n",
    "\n",
    "data_test = atc_dataloader.ATCDataset(TEST_IN, TEST_OUT)"
   ]
  },
  {
   "cell_type": "code",
   "execution_count": 20,
   "metadata": {},
   "outputs": [
    {
     "name": "stdout",
     "output_type": "stream",
     "text": [
      "11862489\n"
     ]
    }
   ],
   "source": [
    "model = atc_model.BaseNN()\n",
    "optimizer = torch.optim.SGD(model.parameters(), lr=0.0001, weight_decay=0.005)\n",
    "\n",
    "train_model(model, dataset_train=data_train, dataset_test=data_test, optimizer=optimizer, epochs=100)"
   ]
  }
 ],
 "metadata": {
  "kernelspec": {
   "display_name": "usr",
   "language": "python",
   "name": "python3"
  },
  "language_info": {
   "codemirror_mode": {
    "name": "ipython",
    "version": 3
   },
   "file_extension": ".py",
   "mimetype": "text/x-python",
   "name": "python",
   "nbconvert_exporter": "python",
   "pygments_lexer": "ipython3",
   "version": "3.12.4"
  }
 },
 "nbformat": 4,
 "nbformat_minor": 2
}
