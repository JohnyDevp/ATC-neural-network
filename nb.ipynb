{
 "cells": [
  {
   "cell_type": "code",
   "execution_count": 15,
   "metadata": {},
   "outputs": [],
   "source": [
    "# imports\n",
    "import atc_dataloader, atc_model\n",
    "import torch\n",
    "from torch.utils.data import DataLoader\n",
    "from torch import nn\n",
    "import matplotlib.pyplot as plt\n",
    "import numpy as np\n",
    "from tqdm import tqdm"
   ]
  },
  {
   "cell_type": "code",
   "execution_count": 2,
   "metadata": {},
   "outputs": [],
   "source": [
    "# set the device\n",
    "device = 'cuda' if torch.cuda.is_available() else 'cpu'"
   ]
  },
  {
   "cell_type": "code",
   "execution_count": 3,
   "metadata": {},
   "outputs": [],
   "source": [
    "class PredictionLoss(nn.Module):\n",
    "    \"\"\"\n",
    "    This class is used to calculate the loss between two vectors\n",
    "    \"\"\"\n",
    "    cos = nn.CosineSimilarity(dim=1, eps=1e-6)\n",
    "    mse = nn.MSELoss()\n",
    "    \n",
    "    def __init__(self):\n",
    "        super(PredictionLoss, self).__init__()\n",
    "    \n",
    "    def forward(self, pred, target):\n",
    "        # we are using the mean squared error as loss function\n",
    "        \n",
    "    # Define weights for functions for Cos and MSE.\n",
    "        w1 = 1\n",
    "        w2 = 10\n",
    "        \n",
    "        # Apply cumulative sum to both tensors and calculate loss.\n",
    "        cos_sim = torch.abs(self.cos(torch.cumsum(pred, dim=-1), torch.cumsum(target, dim=-1))).mean()\n",
    "        mse_loss = self.mse(torch.cumsum(pred, dim=-1), torch.cumsum(target, dim=-1))\n",
    "        loss = (w1 * mse_loss) / (w2 * cos_sim)\n",
    "        return loss"
   ]
  },
  {
   "cell_type": "code",
   "execution_count": 9,
   "metadata": {},
   "outputs": [],
   "source": [
    "def train_model2(model, device, dataset_train, dataset_test, optimizer, epochs=10):\n",
    "    \n",
    "    # define loss function\n",
    "    criterion = PredictionLoss().to(device)\n",
    "    \n",
    "    # create DataLoader for batch processing\n",
    "    batch_size = 2\n",
    "    dataloader = DataLoader(dataset_train, batch_size=batch_size, shuffle=True)\n",
    "    \n",
    "    losses_overall = []\n",
    "\n",
    "    # training\n",
    "    for epoch in range(epochs):\n",
    "        losses = []\n",
    "        for (_, batch_in_vectors, batch_out_vectors) in dataloader:\n",
    "            # get output vector from the model\n",
    "            print(batch_in_vectors)\n",
    "            batch_in_vectors = torch.tensor(batch_in_vectors).to(device).float()\n",
    "            batch_out_vectors = torch.tensor(batch_out_vectors, dtype=float).to(device)\n",
    "            \n",
    "            outputs = model(torch.Tensor(batch_in_vectors))\n",
    "            # forward\n",
    "            # loss\n",
    "            loss = criterion(outputs, batch_out_vectors)\n",
    "            # Backpropagation and optimization\n",
    "            optimizer.zero_grad()\n",
    "            loss.backward()\n",
    "            optimizer.step()\n",
    "            losses.append(loss.item())\n",
    "            \n",
    "        \n",
    "        # print out per epoch    \n",
    "        losses_overall.append(np.mean(losses))\n",
    "        print(f'Epoch {epoch+1}/{epochs}, Loss: {np.mean(losses)}')\n",
    "\n",
    "    # plot graph\n",
    "    plt.plot(np.arange(0,epochs,1),losses_overall)\n",
    "    plt.title('Loss function')\n",
    "    plt.show()"
   ]
  },
  {
   "cell_type": "code",
   "execution_count": 4,
   "metadata": {},
   "outputs": [],
   "source": [
    "# load data\n",
    "TRAIN_IN=\"data/train_in.csv\"\n",
    "TRAIN_OUT=\"data/train_out.csv\"\n",
    "\n",
    "data_train = atc_dataloader.ATCDataset(TRAIN_IN, TRAIN_OUT)\n",
    "\n",
    "TEST_IN=\"data/test_in.csv\"\n",
    "TEST_OUT=\"data/test_out.csv\"\n",
    "\n",
    "data_test = atc_dataloader.ATCDataset(TEST_IN, TEST_OUT)"
   ]
  },
  {
   "cell_type": "code",
   "execution_count": 5,
   "metadata": {},
   "outputs": [
    {
     "name": "stdout",
     "output_type": "stream",
     "text": [
      "12012131\n",
      "tensor([0., 0., 0., 0., 1., 0., 0., 0., 0., 0., 0., 0., 0., 0., 0., 0., 0., 0.])\n"
     ]
    }
   ],
   "source": [
    "# testing format of data\n",
    "a,b,c = data_train.__getitem__(120552)\n",
    "print(a)\n",
    "print(c)"
   ]
  },
  {
   "cell_type": "code",
   "execution_count": 23,
   "metadata": {},
   "outputs": [],
   "source": [
    "def train_model(model, device, dataloader, criterion, optimizer, epochs=10):\n",
    "    model.train()  # Set the model to training mode\n",
    "    \n",
    "    for epoch in range(epochs):\n",
    "        total_loss = 0\n",
    "        # Wrap dataloader with tqdm for progress visualization\n",
    "        \n",
    "        for _, batch_in_vectors, batch_out_vectors in tqdm(dataloader, desc=f'Epoch {epoch + 1}/{epochs}', unit='batch'):\n",
    "            # Convert data to tensors and move to the correct device\n",
    "            batch_in_vectors = torch.tensor(batch_in_vectors, dtype=torch.float32).to(device)\n",
    "            batch_out_vectors = torch.tensor(batch_out_vectors, dtype=torch.float32).to(device)\n",
    "            \n",
    "            # Zero the gradients\n",
    "            optimizer.zero_grad()\n",
    "\n",
    "            # Forward pass\n",
    "            outputs = model(batch_in_vectors)\n",
    "            \n",
    "            # Calculate loss\n",
    "            loss = criterion(outputs, batch_out_vectors)\n",
    "            \n",
    "            # Backward pass and optimization\n",
    "            loss.backward()\n",
    "            optimizer.step()\n",
    "\n",
    "            # Accumulate loss\n",
    "            total_loss += loss.item()\n",
    "\n",
    "        # Print loss for the current epoch\n",
    "        avg_loss = total_loss / len(dataloader)\n",
    "        print(f\"Epoch [{epoch+1}/{epochs}], Loss: {avg_loss:.4f}\")\n",
    "\n"
   ]
  },
  {
   "cell_type": "code",
   "execution_count": 24,
   "metadata": {},
   "outputs": [
    {
     "name": "stderr",
     "output_type": "stream",
     "text": [
      "Epoch 1/10:   0%|          | 0/3768 [00:00<?, ?batch/s]/tmp/ipykernel_69246/2776324742.py:10: UserWarning: To copy construct from a tensor, it is recommended to use sourceTensor.clone().detach() or sourceTensor.clone().detach().requires_grad_(True), rather than torch.tensor(sourceTensor).\n",
      "  batch_in_vectors = torch.tensor(batch_in_vectors, dtype=torch.float32).to(device)\n",
      "/tmp/ipykernel_69246/2776324742.py:11: UserWarning: To copy construct from a tensor, it is recommended to use sourceTensor.clone().detach() or sourceTensor.clone().detach().requires_grad_(True), rather than torch.tensor(sourceTensor).\n",
      "  batch_out_vectors = torch.tensor(batch_out_vectors, dtype=torch.float32).to(device)\n",
      "Epoch 1/10: 100%|██████████| 3768/3768 [04:46<00:00, 13.14batch/s]\n"
     ]
    },
    {
     "name": "stdout",
     "output_type": "stream",
     "text": [
      "Epoch [1/10], Loss: 0.1818\n"
     ]
    },
    {
     "name": "stderr",
     "output_type": "stream",
     "text": [
      "Epoch 2/10: 100%|██████████| 3768/3768 [04:44<00:00, 13.23batch/s]\n"
     ]
    },
    {
     "name": "stdout",
     "output_type": "stream",
     "text": [
      "Epoch [2/10], Loss: 0.1689\n"
     ]
    },
    {
     "name": "stderr",
     "output_type": "stream",
     "text": [
      "Epoch 3/10: 100%|██████████| 3768/3768 [04:44<00:00, 13.23batch/s]\n"
     ]
    },
    {
     "name": "stdout",
     "output_type": "stream",
     "text": [
      "Epoch [3/10], Loss: 0.1597\n"
     ]
    },
    {
     "name": "stderr",
     "output_type": "stream",
     "text": [
      "Epoch 4/10: 100%|██████████| 3768/3768 [16:21<00:00,  3.84batch/s]    \n"
     ]
    },
    {
     "name": "stdout",
     "output_type": "stream",
     "text": [
      "Epoch [4/10], Loss: 0.1411\n"
     ]
    },
    {
     "name": "stderr",
     "output_type": "stream",
     "text": [
      "Epoch 5/10: 100%|██████████| 3768/3768 [04:48<00:00, 13.05batch/s]\n"
     ]
    },
    {
     "name": "stdout",
     "output_type": "stream",
     "text": [
      "Epoch [5/10], Loss: 0.0732\n"
     ]
    },
    {
     "name": "stderr",
     "output_type": "stream",
     "text": [
      "Epoch 6/10: 100%|██████████| 3768/3768 [04:44<00:00, 13.23batch/s]\n"
     ]
    },
    {
     "name": "stdout",
     "output_type": "stream",
     "text": [
      "Epoch [6/10], Loss: 0.0624\n"
     ]
    },
    {
     "name": "stderr",
     "output_type": "stream",
     "text": [
      "Epoch 7/10: 100%|██████████| 3768/3768 [04:41<00:00, 13.40batch/s]\n"
     ]
    },
    {
     "name": "stdout",
     "output_type": "stream",
     "text": [
      "Epoch [7/10], Loss: 0.0598\n"
     ]
    },
    {
     "name": "stderr",
     "output_type": "stream",
     "text": [
      "Epoch 8/10: 100%|██████████| 3768/3768 [04:43<00:00, 13.28batch/s]\n"
     ]
    },
    {
     "name": "stdout",
     "output_type": "stream",
     "text": [
      "Epoch [8/10], Loss: 0.0585\n"
     ]
    },
    {
     "name": "stderr",
     "output_type": "stream",
     "text": [
      "Epoch 9/10: 100%|██████████| 3768/3768 [8:23:13<00:00,  8.01s/batch]       \n"
     ]
    },
    {
     "name": "stdout",
     "output_type": "stream",
     "text": [
      "Epoch [9/10], Loss: 0.0574\n"
     ]
    },
    {
     "name": "stderr",
     "output_type": "stream",
     "text": [
      "Epoch 10/10: 100%|██████████| 3768/3768 [04:45<00:00, 13.18batch/s]"
     ]
    },
    {
     "name": "stdout",
     "output_type": "stream",
     "text": [
      "Epoch [10/10], Loss: 0.0568\n"
     ]
    },
    {
     "name": "stderr",
     "output_type": "stream",
     "text": [
      "\n"
     ]
    }
   ],
   "source": [
    "model = atc_model.BaseNN().to(device)\n",
    "optimizer = torch.optim.SGD(model.parameters(), lr=0.0001, weight_decay=0.005)\n",
    "dataloader = DataLoader(data_train, batch_size=32, shuffle=True)  \n",
    "criterion = PredictionLoss().to(device)\n",
    "train_model(model, device, dataloader, criterion, optimizer, epochs=10)\n",
    "# train_model2(model, device, dataset_train=data_train, dataset_test=data_test, optimizer=optimizer, epochs=10)"
   ]
  },
  {
   "cell_type": "code",
   "execution_count": 25,
   "metadata": {},
   "outputs": [],
   "source": [
    "# save model\n",
    "torch.save(model.state_dict(), 'models/model_basenn.pth')"
   ]
  },
  {
   "cell_type": "code",
   "execution_count": 1,
   "metadata": {},
   "outputs": [
    {
     "ename": "NameError",
     "evalue": "name 'model' is not defined",
     "output_type": "error",
     "traceback": [
      "\u001b[0;31m---------------------------------------------------------------------------\u001b[0m",
      "\u001b[0;31mNameError\u001b[0m                                 Traceback (most recent call last)",
      "Cell \u001b[0;32mIn[1], line 1\u001b[0m\n\u001b[0;32m----> 1\u001b[0m res \u001b[38;5;241m=\u001b[39m \u001b[43mmodel\u001b[49m(torch\u001b[38;5;241m.\u001b[39mtensor([data_train\u001b[38;5;241m.\u001b[39m\u001b[38;5;21m__getitem__\u001b[39m(\u001b[38;5;241m0\u001b[39m)[\u001b[38;5;241m1\u001b[39m]])\u001b[38;5;241m.\u001b[39mto(device))    \n",
      "\u001b[0;31mNameError\u001b[0m: name 'model' is not defined"
     ]
    }
   ],
   "source": [
    "res = model(torch.tensor([data_train.__getitem__(0)[1]]).to(device))    "
   ]
  }
 ],
 "metadata": {
  "kernelspec": {
   "display_name": "usr",
   "language": "python",
   "name": "python3"
  },
  "language_info": {
   "codemirror_mode": {
    "name": "ipython",
    "version": 3
   },
   "file_extension": ".py",
   "mimetype": "text/x-python",
   "name": "python",
   "nbconvert_exporter": "python",
   "pygments_lexer": "ipython3",
   "version": "3.12.4"
  }
 },
 "nbformat": 4,
 "nbformat_minor": 2
}
